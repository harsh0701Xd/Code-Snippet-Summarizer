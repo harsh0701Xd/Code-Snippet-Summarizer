{
  "cells": [
    {
      "cell_type": "code",
      "execution_count": 16,
      "id": "cf0dc7a5",
      "metadata": {
        "id": "cf0dc7a5"
      },
      "outputs": [],
      "source": [
        "import re\n",
        "import pandas as pd\n",
        "import numpy as np\n",
        "\n",
        "\n",
        "# Remove non-alphabetic characters (Data Cleaning)\n",
        "def clean_text(column):\n",
        "\n",
        "    for row in column:\n",
        "        row = re.sub('([A-Z][a-z]+)', r' \\1', re.sub('([A-Z]+)', r' \\1',  str(row))).split()\n",
        "        row = ' '.join(row)\n",
        "        row = re.sub(\"(\\\\t)\", \" \", str(row)).lower()\n",
        "        row = re.sub(\"(\\\\r)\", \" \", str(row)).lower()\n",
        "        row = re.sub(\"(\\\\n)\", \" \", str(row)).lower()\n",
        "\n",
        "\n",
        "        # Remove the characters - <>()|&©ø\"',;?~*!\n",
        "        row = re.sub(r\"[<>()|&©ø\\[\\]\\'\\\",.\\}`$\\{;@?~*!+=_\\//1234567890]\", \" \", str(row)).lower()\n",
        "        row = re.sub(r\"\\\\b(\\\\w+)(?:\\\\W+\\\\1\\\\b)+\", \"\", str(row)).lower()\n",
        "\n",
        "\n",
        "        # Remove punctuations at the end of a word\n",
        "        row = re.sub(\"(\\.\\s+)\", \" \", str(row)).lower()\n",
        "        row = re.sub(\"(\\-\\s+)\", \" \", str(row)).lower()\n",
        "        row = re.sub(\"(\\:\\s+)\", \" \", str(row)).lower()\n",
        "\n",
        "\n",
        "        # Replace any url to only the domain name\n",
        "        try:\n",
        "            url = re.search(r\"((https*:\\/*)([^\\/\\s]+))(.[^\\s]+)\", str(row))\n",
        "            repl_url = url.group(3)\n",
        "            row = re.sub(r\"((https*:\\/*)([^\\/\\s]+))(.[^\\s]+)\", repl_url, str(row))\n",
        "        except:\n",
        "            pass\n",
        "            \n",
        "        # Remove multiple spaces\n",
        "        row = re.sub(\"(\\s+)\", \" \", str(row)).lower()\n",
        "\n",
        "        # Remove the single character hanging between any two spaces\n",
        "        row = re.sub(\"(\\s+.\\s+)\", \" \", str(row)).lower()\n",
        "        \n",
        "        \n",
        "\n",
        "        yield row"
      ]
    },
    {
      "cell_type": "code",
      "execution_count": 17,
      "id": "941dbfc1",
      "metadata": {
        "colab": {
          "base_uri": "https://localhost:8080/",
          "height": 424
        },
        "id": "941dbfc1",
        "outputId": "7ff7c011-357b-411d-dbc8-562f7507234b"
      },
      "outputs": [
        {
          "data": {
            "text/html": [
              "<div>\n",
              "<style scoped>\n",
              "    .dataframe tbody tr th:only-of-type {\n",
              "        vertical-align: middle;\n",
              "    }\n",
              "\n",
              "    .dataframe tbody tr th {\n",
              "        vertical-align: top;\n",
              "    }\n",
              "\n",
              "    .dataframe thead th {\n",
              "        text-align: right;\n",
              "    }\n",
              "</style>\n",
              "<table border=\"1\" class=\"dataframe\">\n",
              "  <thead>\n",
              "    <tr style=\"text-align: right;\">\n",
              "      <th></th>\n",
              "      <th>code</th>\n",
              "      <th>docstring</th>\n",
              "      <th>Unnamed: 2</th>\n",
              "      <th>Unnamed: 3</th>\n",
              "      <th>Unnamed: 4</th>\n",
              "    </tr>\n",
              "  </thead>\n",
              "  <tbody>\n",
              "    <tr>\n",
              "      <th>0</th>\n",
              "      <td>root.attributes('-topmost', True)</td>\n",
              "      <td>How to make a window jump to the front?</td>\n",
              "      <td>NaN</td>\n",
              "      <td>NaN</td>\n",
              "      <td>NaN</td>\n",
              "    </tr>\n",
              "    <tr>\n",
              "      <th>1</th>\n",
              "      <td>root.lift()</td>\n",
              "      <td>How to make a window jump to the front?</td>\n",
              "      <td>NaN</td>\n",
              "      <td>NaN</td>\n",
              "      <td>NaN</td>\n",
              "    </tr>\n",
              "    <tr>\n",
              "      <th>2</th>\n",
              "      <td>hex(int(''.join([str(int(b)) for b in walls]),...</td>\n",
              "      <td>Elegant way to convert list to hex string</td>\n",
              "      <td>NaN</td>\n",
              "      <td>NaN</td>\n",
              "      <td>NaN</td>\n",
              "    </tr>\n",
              "    <tr>\n",
              "      <th>3</th>\n",
              "      <td>hex(sum(b &lt;&lt; i for i, b in enumerate(reversed(...</td>\n",
              "      <td>Elegant way to convert list to hex string</td>\n",
              "      <td>NaN</td>\n",
              "      <td>NaN</td>\n",
              "      <td>NaN</td>\n",
              "    </tr>\n",
              "    <tr>\n",
              "      <th>4</th>\n",
              "      <td>print(('Total score for', name, 'is', score))</td>\n",
              "      <td>Print multiple arguments in python</td>\n",
              "      <td>NaN</td>\n",
              "      <td>NaN</td>\n",
              "      <td>NaN</td>\n",
              "    </tr>\n",
              "    <tr>\n",
              "      <th>...</th>\n",
              "      <td>...</td>\n",
              "      <td>...</td>\n",
              "      <td>...</td>\n",
              "      <td>...</td>\n",
              "      <td>...</td>\n",
              "    </tr>\n",
              "    <tr>\n",
              "      <th>2158</th>\n",
              "      <td>\"\"\"\"\"\".join([1, 2, 3, 4])</td>\n",
              "      <td>how to change [1,2,3,4] to '1234' using python</td>\n",
              "      <td>NaN</td>\n",
              "      <td>NaN</td>\n",
              "      <td>NaN</td>\n",
              "    </tr>\n",
              "    <tr>\n",
              "      <th>2159</th>\n",
              "      <td>line = line.decode('utf-8', 'ignore').encode('...</td>\n",
              "      <td>Delete every non utf-8 symbols froms string</td>\n",
              "      <td>NaN</td>\n",
              "      <td>NaN</td>\n",
              "      <td>NaN</td>\n",
              "    </tr>\n",
              "    <tr>\n",
              "      <th>2160</th>\n",
              "      <td>os.system(command)</td>\n",
              "      <td>How to execute a command in the terminal from ...</td>\n",
              "      <td>NaN</td>\n",
              "      <td>NaN</td>\n",
              "      <td>NaN</td>\n",
              "    </tr>\n",
              "    <tr>\n",
              "      <th>2161</th>\n",
              "      <td>c.execute('SELECT * FROM foo WHERE bar = %s AN...</td>\n",
              "      <td>Python MySQL Parameterized Queries</td>\n",
              "      <td>NaN</td>\n",
              "      <td>NaN</td>\n",
              "      <td>NaN</td>\n",
              "    </tr>\n",
              "    <tr>\n",
              "      <th>2162</th>\n",
              "      <td>dateobj = datetime.datetime.strptime(datestr, ...</td>\n",
              "      <td>Convert a string to datetime object in python</td>\n",
              "      <td>NaN</td>\n",
              "      <td>NaN</td>\n",
              "      <td>NaN</td>\n",
              "    </tr>\n",
              "  </tbody>\n",
              "</table>\n",
              "<p>2163 rows × 5 columns</p>\n",
              "</div>"
            ],
            "text/plain": [
              "                                                   code  \\\n",
              "0                     root.attributes('-topmost', True)   \n",
              "1                                           root.lift()   \n",
              "2     hex(int(''.join([str(int(b)) for b in walls]),...   \n",
              "3     hex(sum(b << i for i, b in enumerate(reversed(...   \n",
              "4         print(('Total score for', name, 'is', score))   \n",
              "...                                                 ...   \n",
              "2158                          \"\"\"\"\"\".join([1, 2, 3, 4])   \n",
              "2159  line = line.decode('utf-8', 'ignore').encode('...   \n",
              "2160                                 os.system(command)   \n",
              "2161  c.execute('SELECT * FROM foo WHERE bar = %s AN...   \n",
              "2162  dateobj = datetime.datetime.strptime(datestr, ...   \n",
              "\n",
              "                                              docstring  Unnamed: 2  \\\n",
              "0               How to make a window jump to the front?         NaN   \n",
              "1               How to make a window jump to the front?         NaN   \n",
              "2             Elegant way to convert list to hex string         NaN   \n",
              "3             Elegant way to convert list to hex string         NaN   \n",
              "4                    Print multiple arguments in python         NaN   \n",
              "...                                                 ...         ...   \n",
              "2158     how to change [1,2,3,4] to '1234' using python         NaN   \n",
              "2159        Delete every non utf-8 symbols froms string         NaN   \n",
              "2160  How to execute a command in the terminal from ...         NaN   \n",
              "2161                 Python MySQL Parameterized Queries         NaN   \n",
              "2162      Convert a string to datetime object in python         NaN   \n",
              "\n",
              "     Unnamed: 3 Unnamed: 4  \n",
              "0           NaN        NaN  \n",
              "1           NaN        NaN  \n",
              "2           NaN        NaN  \n",
              "3           NaN        NaN  \n",
              "4           NaN        NaN  \n",
              "...         ...        ...  \n",
              "2158        NaN        NaN  \n",
              "2159        NaN        NaN  \n",
              "2160        NaN        NaN  \n",
              "2161        NaN        NaN  \n",
              "2162        NaN        NaN  \n",
              "\n",
              "[2163 rows x 5 columns]"
            ]
          },
          "execution_count": 17,
          "metadata": {},
          "output_type": "execute_result"
        }
      ],
      "source": [
        "df_code = pd.read_csv('python_Sample_dataset.csv')\n",
        "df_code\n"
      ]
    },
    {
      "cell_type": "code",
      "execution_count": 19,
      "id": "5d4c90c8",
      "metadata": {
        "colab": {
          "base_uri": "https://localhost:8080/",
          "height": 424
        },
        "id": "5d4c90c8",
        "outputId": "195faa59-c675-49c8-e72e-c91997c03b48"
      },
      "outputs": [
        {
          "data": {
            "text/html": [
              "<div>\n",
              "<style scoped>\n",
              "    .dataframe tbody tr th:only-of-type {\n",
              "        vertical-align: middle;\n",
              "    }\n",
              "\n",
              "    .dataframe tbody tr th {\n",
              "        vertical-align: top;\n",
              "    }\n",
              "\n",
              "    .dataframe thead th {\n",
              "        text-align: right;\n",
              "    }\n",
              "</style>\n",
              "<table border=\"1\" class=\"dataframe\">\n",
              "  <thead>\n",
              "    <tr style=\"text-align: right;\">\n",
              "      <th></th>\n",
              "      <th>code</th>\n",
              "      <th>docstring</th>\n",
              "    </tr>\n",
              "  </thead>\n",
              "  <tbody>\n",
              "    <tr>\n",
              "      <th>0</th>\n",
              "      <td>root.attributes('-topmost', True)</td>\n",
              "      <td>How to make a window jump to the front?</td>\n",
              "    </tr>\n",
              "    <tr>\n",
              "      <th>1</th>\n",
              "      <td>root.lift()</td>\n",
              "      <td>How to make a window jump to the front?</td>\n",
              "    </tr>\n",
              "    <tr>\n",
              "      <th>2</th>\n",
              "      <td>hex(int(''.join([str(int(b)) for b in walls]),...</td>\n",
              "      <td>Elegant way to convert list to hex string</td>\n",
              "    </tr>\n",
              "    <tr>\n",
              "      <th>3</th>\n",
              "      <td>hex(sum(b &lt;&lt; i for i, b in enumerate(reversed(...</td>\n",
              "      <td>Elegant way to convert list to hex string</td>\n",
              "    </tr>\n",
              "    <tr>\n",
              "      <th>4</th>\n",
              "      <td>print(('Total score for', name, 'is', score))</td>\n",
              "      <td>Print multiple arguments in python</td>\n",
              "    </tr>\n",
              "    <tr>\n",
              "      <th>...</th>\n",
              "      <td>...</td>\n",
              "      <td>...</td>\n",
              "    </tr>\n",
              "    <tr>\n",
              "      <th>2158</th>\n",
              "      <td>\"\"\"\"\"\".join([1, 2, 3, 4])</td>\n",
              "      <td>how to change [1,2,3,4] to '1234' using python</td>\n",
              "    </tr>\n",
              "    <tr>\n",
              "      <th>2159</th>\n",
              "      <td>line = line.decode('utf-8', 'ignore').encode('...</td>\n",
              "      <td>Delete every non utf-8 symbols froms string</td>\n",
              "    </tr>\n",
              "    <tr>\n",
              "      <th>2160</th>\n",
              "      <td>os.system(command)</td>\n",
              "      <td>How to execute a command in the terminal from ...</td>\n",
              "    </tr>\n",
              "    <tr>\n",
              "      <th>2161</th>\n",
              "      <td>c.execute('SELECT * FROM foo WHERE bar = %s AN...</td>\n",
              "      <td>Python MySQL Parameterized Queries</td>\n",
              "    </tr>\n",
              "    <tr>\n",
              "      <th>2162</th>\n",
              "      <td>dateobj = datetime.datetime.strptime(datestr, ...</td>\n",
              "      <td>Convert a string to datetime object in python</td>\n",
              "    </tr>\n",
              "  </tbody>\n",
              "</table>\n",
              "<p>2163 rows × 2 columns</p>\n",
              "</div>"
            ],
            "text/plain": [
              "                                                   code  \\\n",
              "0                     root.attributes('-topmost', True)   \n",
              "1                                           root.lift()   \n",
              "2     hex(int(''.join([str(int(b)) for b in walls]),...   \n",
              "3     hex(sum(b << i for i, b in enumerate(reversed(...   \n",
              "4         print(('Total score for', name, 'is', score))   \n",
              "...                                                 ...   \n",
              "2158                          \"\"\"\"\"\".join([1, 2, 3, 4])   \n",
              "2159  line = line.decode('utf-8', 'ignore').encode('...   \n",
              "2160                                 os.system(command)   \n",
              "2161  c.execute('SELECT * FROM foo WHERE bar = %s AN...   \n",
              "2162  dateobj = datetime.datetime.strptime(datestr, ...   \n",
              "\n",
              "                                              docstring  \n",
              "0               How to make a window jump to the front?  \n",
              "1               How to make a window jump to the front?  \n",
              "2             Elegant way to convert list to hex string  \n",
              "3             Elegant way to convert list to hex string  \n",
              "4                    Print multiple arguments in python  \n",
              "...                                                 ...  \n",
              "2158     how to change [1,2,3,4] to '1234' using python  \n",
              "2159        Delete every non utf-8 symbols froms string  \n",
              "2160  How to execute a command in the terminal from ...  \n",
              "2161                 Python MySQL Parameterized Queries  \n",
              "2162      Convert a string to datetime object in python  \n",
              "\n",
              "[2163 rows x 2 columns]"
            ]
          },
          "execution_count": 19,
          "metadata": {},
          "output_type": "execute_result"
        }
      ],
      "source": [
        "df_code_p = df_code[[\"code\",\"docstring\"]]\n",
        "df_code_p"
      ]
    },
    {
      "cell_type": "code",
      "execution_count": 20,
      "id": "faf05c07",
      "metadata": {
        "colab": {
          "base_uri": "https://localhost:8080/"
        },
        "id": "faf05c07",
        "outputId": "16a4a5ff-3dce-491d-9f34-b42e1e1b52b8"
      },
      "outputs": [
        {
          "name": "stdout",
          "output_type": "stream",
          "text": [
            "How to make a window jump to the front?\n"
          ]
        }
      ],
      "source": [
        "print (df_code_p[\"docstring\"][0])"
      ]
    },
    {
      "cell_type": "markdown",
      "id": "Hn22dJYccP-1",
      "metadata": {
        "id": "Hn22dJYccP-1"
      },
      "source": [
        "# **Using the function clean_text, we preprocess the code and docstring (summary) columns of the dataset**"
      ]
    },
    {
      "cell_type": "code",
      "execution_count": 21,
      "id": "7df7d553",
      "metadata": {
        "id": "7df7d553"
      },
      "outputs": [],
      "source": [
        "processed_code= clean_text(df_code_p['code'])\n",
        "processed_summary = clean_text(df_code_p['docstring'])"
      ]
    },
    {
      "cell_type": "code",
      "execution_count": 22,
      "id": "14670d61",
      "metadata": {
        "id": "14670d61"
      },
      "outputs": [],
      "source": [
        "import spacy\n",
        "from time import time\n",
        "\n",
        "nlp = spacy.load('en_core_web_sm', disable=['ner', 'parser']) \n",
        "\n",
        "# Process text as batches and yield Doc objects in order\n",
        "code = [str(doc) for doc in nlp.pipe(processed_code, batch_size=50)]\n",
        "summary = [ str(doc)  for doc in nlp.pipe(processed_summary, batch_size=50)]\n",
        "\n",
        "#summary = ['_START_ '+ str(doc) + ' _END_' for doc in nlp.pipe(processed_summary, batch_size=50)]"
      ]
    },
    {
      "cell_type": "code",
      "execution_count": 23,
      "id": "896b80eb",
      "metadata": {
        "colab": {
          "base_uri": "https://localhost:8080/"
        },
        "id": "896b80eb",
        "outputId": "a15b4bce-3519-41f3-e7c4-b1e1918461c6"
      },
      "outputs": [
        {
          "name": "stdout",
          "output_type": "stream",
          "text": [
            "['how to make window jump to the front ', 'how to make window jump to the front ', 'elegant way to convert list to hex string', 'elegant way to convert list to hex string', 'print multiple arguments in python', 'print multiple arguments in python', 'print multiple arguments in python', 'print multiple arguments in python', 'is it possible to serve static html page at the root of django project ', 'use list of values to select rows from pandas dataframe', 'how to get the concrete class name as string ', 'how can execute python code in virtualenv from matlab', 'django models selecting single field', 'python regex findall alternation behavior', 'how do make python to wait for pressed key', 'print string as hex literal python', 'python pymongo how to insert new field on an existing document in mongo from for loop', 'regex to match lol to lolllll and omg to omggg etc', 'getting the nth element using beautiful soup', 'reverse axis in py plot', 'reverse axis in py plot', 'how do stack two data frames next to each other in pandas ', 'creating json response using django and python', 'process escape sequences in string', 'how do calculate the md checksum of file in python ', 'finding key from value in python dictionary:', 'extract all keys from list of dictionaries', 'extract all keys from list of dictionaries', 'extract all keys from list of dictionaries', 'is there more elegant way for unpacking keys and values of dictionary into two lists without losing consistence ', 'convert string to integer with decimal in python', 'convert string to integer with decimal in python', 'numpy how to check if array contains certain numbers ', 'numpy how to check if array contains certain numbers ', 'node labels using networkx', 'how to make copy of d array in python ', 'pythonic way to populate numpy array', 'check if python list item contains string inside another string', 'how to write read pandas data frame with multi index from to an ascii file ', 'how do create list of unique random numbers ', 'splitting on last delimiter in python string ', 'python check if all elements of list are the same type', 'python check if all elements of list are the same type', 'python how to get rid of \\\\r in string ', 'how can scroll web page using selenium webdriver in python ', 'how can scroll web page using selenium webdriver in python ', 'how do convert datetime date object into datetime datetime in python ', 'how to check if one of the following items is in list ', 'saving numpy array as an image', 'regex for removing data in parenthesis', 'regex for removing data in parenthesis', 'regex for removing data in parenthesis', 'checking if any elements in one list are in another', 'convert hex to decimal', 'convert hex to decimal', 'convert hex to decimal', 'convert hex to decimal', 'convert hex to decimal', 'take screenshot in python on mac os x', 'how to set window size using phantomjs and selenium webdriver in python', 'replace non-ascii chars from unicode string in python', 'pandas python how to concatenate two dataframes without duplicates ', 'numpy efficiently reading large array', 'how to use the mv command in python with subprocess', 'how to use the mv command in python with subprocess', 'how to use unicode characters in python string', 'comparing two txt files using difflib in python', 'creating dictionary from string', 'how to check if all elements in tuple or list are in another ', 'python pandas extract unique dates from time series', 'formatting text to be justified in python with format method', 'how do read an excel file into python using xlrd can it read newer office formats ', 'how to sort data frame in python pandas by two or more columns ', 'how to sort data frame in python pandas by two or more columns ', 'how to sort data frame in python pandas by two or more columns ', 'how to sort data frame in python pandas by two or more columns ', 'django redirect to root from view', 'remove all values within one list from another list in python', 'how to remove all the punctuation in string python ', 'python beautiful soup get an attribute value based on the name attribute', 'how to unquote urlencoded unicode string in python ', 'how to unquote urlencoded unicode string in python ', 'empty list', 'empty list', 'empty list', 'empty list', 'pandas reset index on series to remove multiindex', 'how to convert unicode text to normal text', 'subtracting the current and previous item in list', 'cleanest way to get value from list element', 'importing everything dynamically from module', 'convert list of characters into string', 'slicing url with python', 'sort dictionary by key', 'sort dictionary by key', 'put request to rest api using python', 'python remove anything that is not letter or number', 'python nested list comprehension with two lists', 'convert string to dict using list comprehension in python', 'remove object from list of objects in python', 'how to delete character from string using python ', 'how to delete character from string using python ', 'how can sum the product of two list items using for loop in python ', 'how can sum the product of two list items using for loop in python ', 'how can sum the product of two list items using for loop in python ', 'how can sum the product of two list items using for loop in python ', 'can read and write file in one line with python ', 'how to add an integer to each element in list ', 'return list of items in list greater than some value', 'matplotlib set markers for individual points on line', 'matplotlib set markers for individual points on line', 'split elements of list in python', 'split elements of list in python', 'summing elements in list', 'how to attach debugger to python subproccess ', 'python comprehension to compose two dictionaries', 'datetime datetime now ', 'convert binary string to list of integers using python', 'switching keys and values in dictionary in python', 'specific sort list of numbers separated by dots', 'how to find value in list of python dictionaries ', 'how can remove all instances of an element from list in python ', 'how can remove all instances of an element from list in python ', 'convert list to dictionary in python', 'how to check whether elements appears in the list only once in python ', 'generating an md checksum of file', 'how to sort dictionary in python by value when the value is list and want to sort it by the first index of that list', 'pythons fastest way of randomising case of string', 'how to force os system to use bash instead of shell', 'how to force os system to use bash instead of shell', 'how to access the class variable by string in python ', 'how to display jpg file in python ', 'replace the single quote character from string', 'sorting files in list', 'remove all whitespace in string', 'remove all whitespace in string', 'remove all whitespace in string', 'remove all whitespace in string', 'remove all whitespace in string', 'sum all values of counter in python', 'numpy find the euclidean distance between two arrays', 'python define multiple variables of same type ', 'find the sum of subsets of list in python', 'delete an element from dictionary', 'delete an element from dictionary', 'delete an element from dictionary', 'delete an element from dictionary', 'efficient computation of the least-squares algorithm in num py', 'splitting dictionary list inside pandas column into separate columns', 'loop through python list by twos', 'loop through python list by twos', 'how to use map to lowercase strings in dictionary ', 'convert list into string with spaces in python', 'regex match words that contain special characters or http ', 'how to check for palindrome using python logic', 'how to upload binary file with ftplib in python ', 'how to remove all characters before specific character in python ', 'python parse comma-separated number into int', 'combine two pandas dataframes with the same index', 'combine two pandas dataframes with the same index', 'what the best way to aggregate the boolean values of python dictionary ', 'how to extract first two characters from string using regex', 'reverse list', 'reverse list', 'reverse list', 'reverse list', 'how to index nested lists in python ', 'replacing characters in file', 'how to serialize sql alchemy result to json ', 'cross-platform addressing of the config file', 'how to get multiple parameters with same name from url in pylons ', 'how to create similarity matrix in numpy python ', 'python find the greatest number in set of numbers', 'google app engine request class query string', 'python pandas apply function with arguments to series update', 'get models ordered by an attribute that belongs to its one to one model', 'make time delay', 'make time delay', 'make time delay', 'make time delay', 'make time delay', 'remove strings from list that contains numbers in python', 'how to do left right and mid of string in pandas dataframe', 'how do draw grid onto plot in python ', 'python how do you sort list by occurrence with out removing elements from the list ', 'find max length of each column in list of lists', 'count the number of occurrence of values based on another column', 'calculating difference between two rows in python pandas', 'python append values to set', 'how can get an array of alternating values in python ', 'faster way to rank rows in subgroups in pandas dataframe', 'js date object to python datetime', 'python converting from binary to string', 'inserting string into list without getting split into characters', 'inserting string into list without getting split into characters', 'case insensitive dictionary search with python', 'how to pad with characters in python', 'how to check if type of variable is string ', 'how to check if type of variable is string ', 'how do merge list of dicts into single dict ', 'how do merge list of dicts into single dict ', 'how to sort pandas data frame according to multiple criteria ', 'how to sort pandas data frame according to multiple criteria ', 'running python code contained in string', 'creating list of dictionaries in python', 'creating list of dictionaries in python', 'how to get all possible combination of items from -dimensional list in python ', 'pandas sum by groupby but exclude certain columns', 'python turning list into list of tuples', 'removing nan values from an array', 'removing the first folder in path', 'replacing instances of character in string', 'python how to call bash commands with pipe ', 'hex string to character in python', 'get required fields from document in mongoengine ', 'pandas remove column by index', 'change string of integers separated by spaces to list of int', 'change string of integers separated by spaces to list of int', 'find and click an item from onclick partial value', 'python remove special character from string', 'how to display pdf that has been downloaded in python', 'removing backslashes from string in python', 'removing backslashes from string in python', 'replace value in any column in pandas dataframe', 'how do convert datetime to date in python ', 'how do convert datetime to date in python ', 'how to get all sub-elements of an element tree with python element tree ', 'how to get all sub-elements of an element tree with python element tree ', 'how can split and parse string in python ', 'python move elements in list of dictionaries to the end of the list', 'how to check if all values of dictionary are in python ', 'python pandas pivot table', 'do try-except without handling the exception', 'do try-except without handling the exception', 'python sum array', 'python datetime to microtime', 'how to check if any value of column is in range in pandas ', 'sort list of lists by specific index of the inner list', 'sort list of lists by specific index of the inner list', 'sort list of lists by specific index', 'sort list of lists by specific index', 'how to find row of array in numpy array', 'how to select only specific columns from data frame with multi index columns ', 'how to select only specific columns from data frame with multi index columns ', 'how to account for accent characters for regex in python ', 'rename files', 'how to get text for root element using lxml ', 'saving dictionary whose keys are tuples with json python', 'how to correctly parse utf encoded html to unicode strings with beautiful soup ', 'how to delete file without an extension ', 'get the immediate minimum among list of numbers in python', 'pandas replace string with another string', 'how do sort list with positives coming before negatives with values sorted respectively ', 'how do calculate the date six months from the current date', 'how do calculate the date six months from the current date', 'how do calculate the date six months from the current date', 'calculate the date six months from the current date', 'finding the biggest key in python dictionary', 'how to get all the values from numpy array excluding certain index ', 'what is quick way to delete all elements from list that do not satisfy constraint ', 'python pandas date column to column index', 'how to read lines from file into multidimensional array or an array of lists in python', 'python list comprehension with multiple if s', 'removing letters from list of both numbers and letters', 'splitting string based on tab in the file', 'numpy matrix multiplication', 'remove chomp newline', 'remove chomp newline', 'remove chomp newline', 'remove chomp newline', 'remove chomp newline', 'remove chomp newline', 'remove chomp newline', 'remove chomp newline', 'remove chomp newline', 'python split sentence after words but with maximum of characters in result', 'num py list comprehension syntax', 'convert unicode string to byte string', 'best way to split data frame given an edge', 'save json outputed from url to file', 'find indices of elements equal to zero from numpy array', 'python subprocess reading output from subprocess', 'converting integer to string', 'converting integer to string', 'converting integer to string', 'method to sort list of lists ', 'how do add space between two variables after print in python', 'pandas changing cell values based on another cell', 'is there way to make the tkinter text widget read only ', 'python sum of ascii values of all characters in string', 'how to apply itertools product to elements of list of lists ', 'print number with commas as thousands separators', 'print number with commas as thousands separators', 'how to pass through list of queries to pandas dataframe and output the list of results ', 'accessing value in tuple that is in list', 'splitting unicode string into words', 'django how to sort queryset by number of character in field', 'python choose dictionary in list which key is closer to global value', 'finding missing values in numpy array', 'use of findall and parenthesis in python', 'how to define two-dimensional array in python', 'creating numpy array of coordinates from three arrays', 'how to find the minimum value in numpy matrix ', 'python selenium find object attributes using xpath', 'python selenium find object attributes using xpath', 'parse yaml file', 'parse yaml file', 'how to swap group of column headings with their values in pandas', 'getting today date in yyyy mm dd in python ', 'how to urlencode querystring in python ', 'python sorting dictionary by length of values', 'convert list of tuples to multiple lists in python', 'convert list of tuples to multiple lists in python', 'convert list of tuples to multiple lists in python', 'create list of tuples with adjacent list elements if condition is true', 'how can set proxy with authentication in selenium chrome web driver using python', 'python reversing an utf string', 'extracting date from string in python', 'extracting date from string in python', 'extracting date from string in python', 'efficient way to convert list to dictionary', 'how can check if string contains any letters from the alphabet ', 'converting pandas group by object to data frame', 'removing all non-numeric characters from string in python', 'list comprehension with if statement', 'how to subset dataset in pandas dataframe ', 'how to unzip list of tuples into individual lists ', 'how do combine two lists into dictionary in python ', 'how do combine two lists into dictionary in python ', 'how do get the different parts of flask request url ', 'how to remove m from text file and replace it with the next line', 'best way to encode tuples with json', 'converting string into datetime', 'converting string into datetime', 'python extract folder path from file path', 'python extract folder path from file path', 'post json using python requests', 'python remove dictionary from list if key is equal to value', 'getting request parameter in jinja ', 'python create list with numbers between values ', 'type conversion in python from int to float', 'sorting or finding max value by the second element in nested list python', 'how to remove leading and trailing zeros in string python', 'generating all unique pair permutations', 'python regular expression matching multiline block of text', 'python regular expression matching multiline block of text', 'how do you call python file that requires command line argument from within another python file ', 'sort multidimensional list by variable number of keys', 'add another tuple to tuple', 'add another tuple to tuple', 'find current directory and file directory', 'find current directory and file directory', 'find current directory and file directory', 'find current directory and file directory', 'find current directory', 'find current directory', 'find current directory', 'sort numpy matrix row values in ascending order', 'sort numpy matrix row values in ascending order', 'split string on number of different characters', 'copying one file contents to another in python', 'what the best way to generate random strings of specific length in python ', 'how to merge the elements in list sequentially in python', 'python rename single column header in pandas dataframe', 'converting html to text with python', 'python sort list of lists by an item in the sublist', 'pandas replacing column values', 'regex punctuation split python ', 'limit the number of sentences in string', 'split string into strings of repeating elements', 'how does this function to remove duplicate characters from string in python work ', 'how does this function to remove duplicate characters from string in python work ', 'how can list only the folders in zip archive in python ', 'how to find the count of word in string ', 'python reduce list of strings string', 'dumping subprcess output in file in append mode', 'list of ints into list of tuples python', 'list of ints into list of tuples python', 'how to fix unicode decode error ascii codec can decode byte ', 'python datetime to string without microsecond component', 'how to retrieve only arabic texts from string using regular expression ', 'how to group data frame by period of time ', 'accessing elements of python dictionary', 'how to remove rows with null values from kth column onward in python', 'how do insert list at the front of another list ', 'how do insert list at the front of another list ', 'pyhon best way to find the center of mass in binary numpy array', 'keep only date part when using pandas to datetime', 'removing one list from another', 'how do transform multi-level list into list of strings in python ', 'how do transform multi-level list into list of strings in python ', 'matching blank lines with regular expressions', 'merging items in list python', 'convert float to comma-separated string', 'how to pass dictionary items as function arguments in python ', 'get line count', 'get line count', 'how to round integers in python', 'sorting list based on values from another list ', 'sorting list based on values from another list ', 'how to get week number in python ', 'select multiple ranges of columns in pandas data frame', 'python pandas multiple aggregations of the same column', 'convert string to lowercase', 'convert string to lowercase', 'how to download file via ftp with python ftplib', 'how do increase the timeout for imaplib requests ', 'output first characters in string', 'matplotlib legend markers only once', 'python how to calculate equal parts of two dictionaries ', 'load csv into matrix with numpy for plotting', 'django database query how to filter objects by date range ', 'django database query how to filter objects by date range ', 'syntax for creating dictionary into another dictionary in python', 'how to apply numpy linalg norm to each row of matrix ', 'how to merge two python dictionaries in single expression ', 'python convert escaped utf string to utf-string', 'counting the number of true booleans in python list', 'matplotlib animation how to remove white margin', 'python string format with dict with integer keys', 'python converting string of numbers into list of int', 'python converting string of numbers into list of int', 'python list of tuples to list of int', 'python list of tuples to list of int', 'python list of tuples to list of int', 'how do extract all the values of specific key from list of dictionaries ', 'iso time iso in python', 'iso time iso in python', 'merging data frame columns of strings into one single column in pandas', 'pandas subtract dataframe with row from another dataframe', 'how can detect dos line breaks in file ', 'python read text file with weird utf format', 'python read text file with weird utf format', 'finding common rows intersection in two pandas dataframes', 'how can check python unicode string to see that it actually is proper unicode ', 'numpy array dimensions', 'numpy array dimensions', 'numpy array dimensions', 'numpy array dimensions', 'how to search list of tuples in python', 'convert string of bytes into an int python ', 'how to get the values from num py array using multiple indices', 'what a good way to combinate through set ', 'converting from string to boolean in python ', 'how do url encode in python ', 'how can get the output of matplotlib plot as an svg ', 'counting array elements in python', 'python embedding in import error no module named pyfunction', 'how to plot with x-axis at the top of the figure ', 'python bulk select then insert from one db to another', 'how do use regular expression to match name ', 'how do use regular expression to match name ', 'convert hex string to int', 'convert hex string to int', 'convert hex string to int', 'convert hex string to int', 'convert hex string to int', 'how to print variables without spaces between values', 'how to print variables without spaces between values', 'how do convert an array to string using the jinja template engine ', 'get list of locally installed python modules', 'slicing multidimensional list', 'sort string in lexicographic order python', 'sort string in lexicographic order python', 'sort string in lexicographic order python', 'compare python pandas data frames for matching rows', 'get keys correspond to value in dictionary', 'how to decode unicode raw literals to readable string ', 'what is the easiest way to convert list with str into list with int ', 'what is the easiest way to convert list with str into list with int ', 'what is the easiest way to convert list with str into list with int ', 'python beautiful soup extract specific ur ls', 'python beautiful soup extract specific ur ls', 'python how can execute jar file through python script', 'how can insert null data into my sql database with python ', 'remove substring from the end of string', 'remove substring from the end of string', 'remove substring from the end of string', 'remove substring from the end of string', 'python print tuple elements with no brackets', 'clamping floating numbers in python ', 'splitting string into words and punctuation', 'how to execute raw sql in sql alchemy-flask app', 'is there method that tells my program to quit ', 'python find digits in string', 'python split string based on regular expression', 'python split string based on regular expression', 'python how to get attribute of attribute of an object with getattr ', 'convert generator object to dictionary', 'convert generator object to dictionary', 'how do tell matplotlib that am done with plot ', 'python convert string literal to float', 'python ascii to binary', 'get string after specific substring', 'python accessing nested json data', 'python reg ex using re sub with multiple patterns', 'how to extract data from json object in python ', 'convert json array to python list', 'convert json array to python list', 'parsing tweet to extract hashtags into an array in python', 'python fastest way to check if string contains specific characters in any of the items in list', 'how to plot two columns of pandas data frame using points ', 'parsing html', 'parsing html', 'change figure size and figure format in matplotlib', 'best way to strip punctuation from string in python', 'django urlsafe base decoding with decryption', 'get the number of all keys in dictionary of dictionaries in python', 'python convert decimal to hex', 'converting integer to list in python', 'converting integer to list in python', 'python mechanize select form with no name', 'python load json file with utf bom header', 'python load json file with utf bom header', 'issue sending email with python ', 'reversing bits of python integer', 'pandas data frame add column to index without resetting', 'iterating over dictionaries using for loops', 'iterating over dictionaries using for loops', 'iterating over dictionaries using for loops', 'iterating over dictionaries using for loops', 'iterating over dictionaries using for loops', 'iterating over dictionaries using for loops', 'iterating over dictionaries using for loops', 'iterating over dictionaries using for loops', 'iterating over dictionaries using for loops', 'how do implement null coalescing operator in sql alchemy ', 'how do compile visual studio project from the command-line ', 'get max key in dictionary', 'can use an alias to execute program from python script', 'how to get function name as string in python ', 'how to get function name as string in python ', 'how to check if all values in the columns of numpy matrix are the same ', 'sorting list of tuples by the addition of second and third element of the tuple', 'sorting list of tuples by the addition of second and third element of the tuple', 'sorting list of tuples by the addition of second and third element of the tuple', 'sorting list of tuples by the addition of second and third element of the tuple', 'add headers in flask app with unicode literals', 'in django how do clear sessionkey ', 'python date string to date object', 'replace non ascii characters with single space', 'list of lists into numpy array', 'what does for loop within list do in python ', 'using regular expression to split string in python', 'using regular expression to split string in python', 'how to remove the space between subplots in matplotlib pyplot ', 'how to reverse tuples in python ', 'python json encoding', 'writing list of strings to excel csv file in python', 'how to convert datetime to string in python in django', 'non-consuming regular expression split in python', 'utf in python regex', 'declare an array', 'declare an array', 'how to reverse the elements in sublist ', 'replace all non-alphanumeric characters in string', 'python unescape special characters without splitting data', 'how can disable logging while running unit tests in python django ', 'adding url to mysql row in python', 'convert column of date objects in pandas data frame to strings', 'python regex get first part of an email address', 'python pandas drop rows of timeserie based on time range', 'python pandas drop rows of timeserie based on time range', 'how to count the nan values in the column in panda data frame', 'turn pandas multi index into column', 'python getting list of value from list of dict', 'python getting list of value from list of dict', 'python getting list of value from list of dict', 'converting num py array into python list structure ', 'converting string to tuple and adding to tuple', 'how to keep list of lists sorted as it is created', 'python uniqueness for list of lists', 'python uniqueness for list of lists', 'in django how do check if user is in certain group ', 'in django how do check if user is in certain group ', 'dynamically changing log level in python without restarting the application', 'how to transform tuple to string of values without comma and parentheses', 'what is the simplest way to swap char in string with python ', 'drawing huge graph with network and matplotlib', 'delete items from list of list pythonic way', 'find an element in list of tuples', 'find an element in list of tuples', 'how can get the index value of list comprehension ', 'how to uniqify list of dict in python', 'how do load file into the python console ', 'get the number of rows in table using sql alchemy', 'execute shell script from python with variable', 'how to read xlsx file using the pandas library in python ', 'reading hex to double-precision float python', 'indexing numpy array with another numpy array', 'how to find all possible sequences of elements in list ', 'sort list in python based on another sorted list', 'how to get yesterday in python', 'creating zero-filled pandas data frame', 'string find', 'string find', 'string find', 'string find', 'string find', 'string find', 'string find', 'string find', 'string find', 'string find', 'sort list of date strings', 'regular expression in python sentence extractor', 'regular expression in python sentence extractor', 'python how to cut string in python ', 'python how to cut string in python ', 'python how to cut string in python ', 'using variable in xpath in python selenium', 'append to file', 'append to file', 'append to file', 'append to file', 'how can split string into tokens ', 'python check if string contains chinese character ', 'string splitting in python', 'how to start background process in python ', 'elegant way to transform list of dict into dict of dicts', 'print date in regular format', 'print date in regular format', 'finding consecutive consonants in word', 'how do get list of indices of non zero elements in list ', 'how to get integer values from string in python ', 'how can know python path under windows ', 'moving x-axis to the top of plot in matplotlib', 'moving x-axis to the top of plot in matplotlib', 'moving x-axis to the top of plot in matplotlib', 'parsing non-zero padded timestamps in python', 'open images', 'open images', 'how do abort the execution of python script ', 'how do abort the execution of python script ', 'how do abort the execution of python script ', 'find maximum with limited length in list', 'how to set the current working directory in python ', 'how to set the current working directory in python ', 'how to remove all integer values from list in python', 'how do match contents of an element in path lxml ', 'convert dictionaries into string python', 'detecting non-ascii characters in unicode string', 'detecting non-ascii characters in unicode string', 'convert string representation of dictionary to dictionary ', 'easiest way to remove unicode representations from string in python ', 'string encoding and decoding from possibly latin and utf ', 'merge lists into list of tuples', 'merge lists into list of tuples', 'python pandas dataframe to dictionary', 'python pandas dataframe to dictionary', 'can sort text by its numeric value in python ', 'how can remove text within parentheses with regex ', 'how can tell if string only contains letter and spaces', 'add sum of values of two lists into new list', 'how to sort python dictionary by value ', 'how to exclude character from regex group ', 'get index of the top values of list in python', 'get index of the top values of list in python', 'get index of the top values of list in python', 'how to get the index with the key in python dictionary ', 'how to print in python as with plus sign instead of ', 'remove adjacent duplicate elements from list', 'converting string to list in python', 'converting string to list in python', 'python convert list of key-value tuples into dictionary ', 'how to write multidimensional array to text file ', 'how to store os system output in variable or list in python', 'select everything but list of columns from pandas dataframe', 'how to count values in certain range in numpy array ', 'how to get day name in datetime in python', 'python regular expression match whole word', 'python how do format date in jinja ', 'python how do format date in jinja ', 'making flat list out of list of lists', 'making flat list out of list of lists', 'making flat list out of list of lists', 'convert int to ascii and back in python', 'python use regular expression to remove the white space from all lines', 'python use regular expression to remove the white space from all lines', 'python assign each element of list to separate variable', 'python split list into subsets based on pattern', 'regular expression substitution in python', 'how to skip the extra newline while printing lines read from file ', 'get index values of pandas data frame as list ', 'check if list is empty', 'check if list is empty', 'check if list is empty', 'find the indices of elements greater than x', 'sorting list of nested dictionaries in python', 'sorting list of nested dictionaries in python', 'sorting list of nested dictionaries in python', 'how to remove decimal points in pandas', 'how to extract data from matplotlib plot', 'how to get the maximum values per row in numpy ndarray ', 'multi value dict key error in django', 'any way to properly pretty-print ordered dictionaries in python ', 'django can find url pattern', 'django can find url pattern', 'pythonic way to get the largest item in list', 'pythonic way to get the largest item in list', 'how to iterate over time periods in pandas', 'how to extract elements from list in python ', 'python filter lines from text file which contain particular word', 'how to convert date string to date time object ', 'reading tab-delimited file with pandas works on windows but not on mac', 'replace first occurence of string', 'how can zip file with flattened directory structure using zipfile in python ', 'elegant way to create dictionary of pairs from list of tuples ', 'how to subtract two lists in python', 'how to tell if string starts with number ', 'how to tell if string starts with number ', 'how can find script directory with python ', 'finding the surrounding sentence of char word in string', 'plotting list of y coordinates in python matplotlib', 'rearrange tuple of tuples in python', 'find average of every three columns in pandas dataframe', 'how do convert list of ascii values to string in python ', 'python counting number of dictionary items with given value', 'python counting number of dictionary items with given value', 'convert double to float in python', 'converting datetime date to utc timestamp in python', 'custom sorting in pandas dataframe', 'how to sort with lambda in python', 'how can print the truth value of variable ', 'how can change specific row label in pandas dataframe ', 'scikit-learn how to run means on one-dimensional array ', 'sorting list in python', 'login to site using python and opening the login site in the browser', 'pythonic way to fetch all elements in dictionary falling between two keys ', 'pythonic way to fetch all elements in dictionary falling between two keys ', 'python sorting two lists', 'number of values in list greater than certain number', 'number of values in list greater than certain number', 'number of values in list greater than certain number', 'python elegant way of creating list of tuples ', 'changing file permission in python', 'multiple files for one argument in argparse python ', 'comparing values in two lists in python', 'comparing values in two lists in python', 'python extract numbers from string', 'create an empty data frame with index from another data frame', 'how do convert string bytes long to an integer in python', 'printing lists onto tables in python', 'sort pandas dataframe by date', 'how can check if checkbox is checked in selenium python webdriver ', 'how can check if checkbox is checked in selenium python webdriver ', 'is it possible to use else in python list comprehension ', 'parsing string containing unicode character names', 'parsing string containing unicode character names', 'convert unicode codepoint to utf hex in python', 'how can get python to use upper case letters to print hex values ', 'how to remove empty string in list ', 'python want to use string as slice specifier', 'beautiful soup using regex to find tags ', 'get function name as string in python', 'how to convert dictionary into string', 'how to convert dictionary into string', 'copy list', 'copy list', 'copy list', 'copy list', 'copy list', 'remove or adapt border of frame of legend using matplotlib', 'how to work with surrogate pairs in python ', 'calling function of module from string with the function name in python', 'checking if website is up', 'checking if website is up', 'checking if website is up', 'checking if website is up', 'selenium open pop up window python ', 'how to store data frame using pandas python', 'pandas mean of columns with the same names', 'how to perform double sort inside an array ', 'how to get alpha value of png image with pil ', 'how to get the length of words in sentence ', 'find specific tag with beautiful soup', 'using python dict for sql insert statement', 'preserving column order python pandas and column concat', 'python extract variables out of namespace', 'regular expression to return all characters between two special characters', 'python print all floats to decimal places in output', 'the best way to filter dictionary in python', 'the best way to filter dictionary in python', 'in pandas how do convert string of date strings to datetime objects and put them in data frame ', 'print the complete string of pandas dataframe', 'how to change the font size on matplotlib plot', 'convert python dict into dataframe', 'pandas elementwise multiplication of two dataframes', 'how to extract floating number from string', 'how to extract floating number from string', 'convert list to list of tuples python', 'how to lowercase python dataframe string column if it has missing values ', 'python append to array in json object', 'most pythonic way to concatenate strings', 'python sum values in dictionary based on condition', 'flask application traceback doesn show up in server log', 'how to drop list of rows from pandas dataframe ', 'pandas data frame replace nan values with average of columns', 'how to extract from list of objects list of specific attribute ', 'python get time stamp on file in mm dd yyyy format', 'python check if one dictionary is subset of another larger dictionary', 'python for loop in index assignment', 'indexing pandas dataframe by integer', 'convert datetime object to string of date only in python', 'python add comma into number string', 'sum of every two columns in pandas dataframe', 'creating list of random numbers in python', 'beautifulsoup can find href in file using regular expression', 'in python why won something print without newline ', 'how to get random value in python dictionary', 'is there function in python to split word into list ', 'regex how to match words without consecutive vowels ', 'using reg ex to match ip addresses in python', 'how to execute file within the python interpreter ', 'returning distinct rows in sql alchemy with sq lite', 'remove null columns in dataframe pandas ', 'python counting elements of list within list', 'comparing elements between elements in two lists of tuples', 'how to clear delete the textbox in tkinter python on ubuntu', 'python convert long to date', 'how can start python thread from ', 'sorting list with objects of class as its items', 'sorting list with objects of class as its items', 'how can convert tensor into numpy array in tensor flow ', 'in python how to join list of tuples into one list ', 'how do pythonically set value in dictionary if it is none ', 'python pandas group by in group by and average ', 'from list of integers get number closest to given value', 'find array item in string', 'find string with regular expression in python', 'how do convert all strings like fault and into unique float ', 'subtract values in one list from corresponding values in another list python', 'how to derive the week start for given iso weeknumber year in python', 'python how do convert an array of strings to an array of numbers ', 'how to create datetime object from sep in python', 'how do use dictionary to update fields in django models ', 'how do use dictionary to update fields in django models ', 'precision in python', 'python how to generate -digit random number ', 'python how to generate -digit random number ', 'python how to generate -digit random number ', 'python how to generate -digit random number ', 'how to remove specific elements in numpy array', 'sort list based on dictionary values in python ', 'read single character from the user', 'how to get list of matchable characters from regex class', 'how to get the context of search in beautiful soup ', 'convert row in pandas into list', 'convert d array to d array in numpy', 'flask how to make an app externally visible through router ', 'stdout encoding in python', 'best way to get the nth element of each tuple from list of tuples in python', 'regular expression matching all but string', 'regular expression matching all but string', 'removing entries from dictionary based on values', 'removing entries from dictionary based on values', 'python sorting list of objects', 'python sorting list of objects', 'python sorting list of objects', 'pandas joining multiple dataframes on columns', 'random decimal in python', 'list all files of directory', 'list all files of directory', 'list all files of directory', 'list all files of directory', 'psycopg insert multiple rows with one query', 'get key by value in dictionary with same value in python ', 'get key by value in dictionary with same value in python ', 'get key by value in dictionary with same value in python ', 'what is the best way to create string array in python ', 'generate pdf from markdown file', 'remove duplicate dict in list in python', 'how to set the timezone in django ', 'appending to list in python dictionary', 'how to do this group by query in django orm with annotate and aggregate', 'how to clear tkinter canvas ', 'how to add specific number of characters to the end of string in pandas ', 'how do translate iso datetime string into python datetime object ', 'how to sort list according to another list ', 'how to sort list according to another list ', 'matplotlib how to plot high resolution graph ', 'matplotlib how to plot high resolution graph ', 'how to get output of exe in python script ', 'how to get output of exe in python script ', 'using beautiful soup to search html for string', 'using beautiful soup to search html for string', 'python sorting items in dictionary by part of key ', 'find non-common elements in lists', 'retrieving list items from request post in django python', 'how do remove dicts from list with duplicate fields in python ', 'merge columns within data frame that have the same name', 'python dict comprehension with two ranges', 'how to turn boolean array into index array in numpy', 'case insensitive string comparison', 'case insensitive string comparison', 'case insensitive string comparison', 'case insensitive string comparison', 'case insensitive string comparison', 'taking the results of bash command and using it in python', 'how to remove multiple indexes from list at the same time ', 'how to convert string to its base representation ', 'python regular expression with codons', 'sorting set of values', 'convert an int to hex string', 'simple way to append pandas series with same index', 'simple way to append pandas series with same index', 'in python is there concise way to use list comprehension with multiple iterators ', 'sorting values of python dict using sorted builtin function', 'how can select last business day of the month in pandas ', 'how do disable the security certificate check in python requests', 'dropping row in pandas with dates indexes python', 'string contains substring', 'string contains substring', 'string contains substring', 'string contains substring method', 'extract first and last row of dataframe in pandas', 'django filter queryset by char field value length', 'django filter queryset by char field value length', 'best way to count the number of rows with missing values in pandas data frame', 'sorting while preserving order in python', 'how to set the font size of canvas text item ', 'python how to use list comprehension here ', 'pandas read csv with extra commas in column', 'avoiding regex in pandas str replace', 'finding the index of elements based on condition using python list comprehension', 'check if variable exists', 'check if variable exists', 'check if variable exists', 'check if variable exists', 'check if variable exists', 'python lambda function', 'what the shortest way to count the number of items in generator iterator ', 'how to get tuples from lists using list comprehension in python', 'how to get tuples from lists using list comprehension in python', 'how to get tuples from lists using list comprehension in python', 'how do convert hex triplet to an rgb tuple and back ', 'check if something is not in list', 'check if something is not in list', 'check if something is not in list', 'check if something is not in list', 'create new list by taking first item from first list and last item from second list', 'remove one column for numpy array', 'python my sql update working but not updating table', 'how do join two dataframes based on values in selected columns ', 'how to change push button text and background color', 'finding the average of list', 'python finding string key in dictionary that contains substring', 'how do use md hash or other binary data as key name ', 'how to get only the last part of path in python ', 'sorting datetime objects while ignoring the year ', 'how do extract table data in pairs using beautiful soup ', 'python rstrip one exact string respecting order', 'python pandas how to get the row names from index of dataframe ', 'python pandas how to get the row names from index of dataframe ', 'list of all unique characters in string ', 'list of all unique characters in string ', 'list of all unique characters in string ', 'find rows with non zero values in subset of columns in pandas dataframe', 'upload file with python mechanize', 'multiple in operators in python ', 'how to hide output of subprocess in python ', 'how to replace na ns by preceding values in pandas data frame ', 'how to create range of numbers in python like in matlab', 'how to create range of numbers in python like in matlab', 'symlinks on windows ', 'python slicing multi-dimensional array', 'upload files to google cloud storage from appengine app', 'change directory to the directory of python script', 'call function with argument list in python', 'pandas data frame how do split column into two', 'pandas data frame how do split column into two', 'sorting python list based on the length of the string', 'sorting python list based on the length of the string', 'sorting python list based on the length of the string', 'how to plot arbitrary markers on pandas data series ', 'get all combination of binary value', 'get all combination of binary value', 'get all combination of binary value', 'get all combination of binary value', 'append string to the start of each value in said column of pandas dataframe elegantly ', 'how to get variable name as string in python ', 'how to add colorbar for hist plot', 'how to get every element in list of list of lists ', 'sorting dictionary keys in python', 'how to count the number of occurences of none in list ', 'accessing dictionary by key in django template', 'get unique values from list in python', 'get unique values from list in python', 'python size for plot', 'how to get everything after last slash in url ', 'how to get everything after last slash in url ', 'how to read file in other directory in python', 'how to create list with the characters of string ', 'flattening list of num py arrays ', 'converting dict into list', 'converting dict into list', 'how to pull random record using django orm ', 'change current working directory in python', 'change current working directory in python', 'change current working directory in python', 'how to create single python dict from list of dicts by summing values with common keys ', 'how to sort pandas data frame using values from several columns ', 'converting string series to float list', 'converting string series to float list', 'how to set step on axis in my figure in matplotlib python ', 'read from stdin', 'read from stdin', 'how to check if value exists in dictionary python ', 'how to check if value exists in dictionary python ', 'calling parent class constructor from child class in python', 'how to create dictionary using two lists in python ', 'sorting list of dicts by dict values', 'sorting list of dicts by dict values', 'pandas how to do multiple groupby-apply operations', 'how to add multiple values to dictionary key in python ', 'python sum values in dictionary', 'python sum values in dictionary', 'python sum values in dictionary', 'writing string to file on new line everytime ', 'writing string to file on new line everytime ', 'finding consecutive segments in pandas data frame', 'python how to refer to relative paths of resources when working with code repository', 'how to retrieve an element from set without removing it ', 'how to execute command prompt command from python', 'how to auto-scroll gtk scrolledwindow ', 'python find in list', 'convert date format python', 'python how to convert string literal to raw string literal ', 'get output of python script from within python script', 'getting pandas dataframe from list of nested dictionaries', 'delete column in pandas based on condition', 'how to sort multidimensional array by column ', 'string to list conversion in python', 'get list item by attribute in python', 'python write list of tuples to file', 'python regex to match multiple times', 'how do read text file into string variable in python', 'grouping dataframes in pandas ', 'read file line by line into list', 'read file line by line into list', 'read file line by line into list', 'read file line by line into list', 'convert data frame column type from string to datetime', 'can list of all member-dict keys be created from dict of dicts using list comprehension ', 'possible to get user input without inserting new line ', 'create pandas data frame from txt file with specific pattern', 'pandas how can use the apply function for single column ', 'how to check whether the system is free bsd in python script ', 'how to sort python list of strings of numbers', 'finding words after keyword in python', 'removing id element from pymongo results', 'how do you extract column from multi-dimensional array ', 'how do you extract column from multi-dimensional array ', 'python how to sort list of numerical values in ascending order', 'how can tell if file is descendant of given directory ', 'python how to check string for substrings from list ', 'construct pandas data frame from list of tuples', 'how to find and replace nth occurence of word in sentence using python regular expression ', 'how to find and replace nth occurence of word in sentence using python regular expression ', 'sort list of strings by integer suffix in python', 'sort list of strings by integer suffix in python', 'how to group similar items in list ', 'how to group similar items in list ', 'how do use the html unit driver with selenium from python ', 'using python datetime module can get the year that utc is currently in ', 'how to find the difference between lists that may have duplicate numbers', 'how to remove tags from string in python using regular expressions not in html ', 'how can unpack binary hex formatted data in python ', 'how to do less than or equal to filter in django queryset ', 'how to use beautiful soup to find tag with changing id ', 'how to use beautiful soup to find tag with changing id ', 'how to delete an item in list if it exists ', 'user input and commandline arguments', 'add to integers in list', 'add to integers in list', 'add to integers in list', 'removing white space around saved image in matplotlib', 'concatenate lists', 'concatenate lists', 'how do you filter pandas dataframes by multiple columns', 'how to print backslash with python ', 'how to replace values with none in pandas data frame in python ', 'delete column from pandas data frame', 'delete column from pandas data frame', 'delete column from pandas data frame', 'disable abbreviation in argparse', 'extract dictionary value from column in data frame', 'how to access pandas groupby dataframe by key', 'string formatting in python', 'string formatting in python', 'accessing python dict values with the key start characters', 'python date string formatting', 'dropping single sub column from multi index', 'dropping single sub column from multi index', 'build dictionary in python loop list and dictionary comprehensions', 'how to click on the text button using selenium python', 'python combine two dictionaries concatenate string values ', 'how to generate unique equal hash for equal dictionaries ', 'how to convert nested list of lists into list of tuples in python ', 'summing across rows of pandas dataframe', 'summing across rows of pandas dataframe', 'change string into uppercase', 'splitting semicolon-separated string to dictionary in python', 'how to set cookie in python mechanize', 'how to remove square bracket from pandas dataframe', 'how to remove square bracket from pandas dataframe', 'how to remove square bracket from pandas dataframe', 'python getting string key value from python dictionary', 'easier way to add multiple list items ', 'testing whether numpy array contains given row', 'how do check if all elements in list are the same ', 'how to split string at line breaks in python ', 'create hierarchy from dictionary of lists', 'search for string in txt file', 'search for string in txt file', 'search for string in txt file', 'replacing the empty strings in string', 'getting every possible combination in list', 'python how do get string literal representation of byte string ', 'checking whether variable is an integer', 'checking whether variable is an integer', 'play sound with python', 'how to get the next values of generator in list python ', 'how to get the next values of generator in list python ', 'how can compare two lists in python and return matches', 'how can compare two lists in python and return matches', 'how to print list with integers without the brackets commas and no quotes ', 'python regex match string with only one instance of character', 'how to import module in python with importlib import module', 'how to import module in python with importlib import module', 'how to convert list to numpy array ', 'python regular expression for beautiful soup', 'a sequence of empty lists of length in python ', 'create dictionary from list of variables', 'how to get two random records with django', 'how to use dot in python format strings ', 'python using dict to speed sorting of list of tuples', 'generate random integers between and ', 'generate random integers between and ', 'generate random integers between and ', 'reverse string in python two characters at time network byte order ', 'how to transform time series pandas dataframe using the index attributes ', 'how to check if all elements of list matches condition ', 'how to check if all elements of list matches condition ', 'python sorting dictionary of dictionaries', 'logarithmic y-axis bins in python', 'extract digits in simple way from python string', 'how can list the contents of directory in python ', 'how can list the contents of directory in python ', 'how to merge two data frames into single matching the column values', 'python how to get every first element in dimensional list', 'python how to get every first element in dimensional list', 'regular expression to remove line breaks', 'reading utf characters from gzip file in python', 'can python test the membership of multiple values in list ', 'can python test the membership of multiple values in list ', 'remove specific characters from string', 'remove specific characters from string', 'remove specific characters from string', 'remove specific characters from string', 'remove specific characters from string', 'remove specific characters from string', 'how to binarize the values in pandas data frame ', 'storing collection of integers in list', 'is it possible to define global variables in function in python', 'i looking for pythonic way to insert space before capital letters', 'how can convert unicode to uppercase to print it ', 'remove string from list if from substring list', 'what the pythonic way to combine two sequences into dictionary ', 'how to customize the time format for python logging ', 'python regex replace', 'can python script execute function inside bash script ', 'can python script execute function inside bash script ', 'a simple way to remove multiple spaces in string in python', 'how to convert decimal to binary list in python', 'how to convert decimal to binary list in python', 'how to convert decimal to binary list in python', 'is it possible to take an ordered slice of dictionary in python based on list of keys ', 'numpy cartesian product of and array points into single array of points', 'selenium webdriver no such element exceptions', 'selenium webdriver no such element exceptions', 'format time string in python ', 'how do sort python list of time values ', 'regex for location matching python', 'pandas how can remove duplicate rows from data frame and calculate their frequency ', 'how do iterate over python dictionary ordered by values ', 'how do iterate over python dictionary ordered by values ', 'how do iterate over python dictionary ordered by values ', 'how to split array into array in num py by splitting the array at the last element ', 'python pandas grouping by and summarizing on field', 'selecting across multiple columns with python pandas ', 'zip with list output instead of tuple', 'select rows from data frame based on values in column in pandas', 'select rows from data frame based on values in column in pandas', 'select rows from data frame based on values in column in pandas', 'select rows from data frame based on values in column in pandas', 'select rows from data frame based on values in column in pandas', 'how to repeat individual characters in strings in python', 'delete file or folder', 'delete file or folder', 'delete file or folder', 'how to add an extra row to pandas dataframe', 'listing files from directory using glob python', 'listing files from directory using glob python', 'listing files from directory using glob python', 'test boolean expression in python string', 'python copy list of lists', 'convert scientific notation to decimal python', 'how to remove converting pandas dataframe to record', 'python readable list of objects', 'get count of values associated with key in dict python', 'get count of values associated with key in dict python', 'get path from module name', 'get the logical xor of two variables', 'get the logical xor of two variables', 'get the logical xor of two variables', 'get the logical xor of two variables', 'get the logical xor of two variables', 'how to alphabetically sort array of dictionaries on single key ', 'python split string by list of separators', 'python split string by list of separators', 'lambda in python', 'creating list of objects in python', 'python making dictionary object from specially-formatted list object', 'shortest way to convert these bytes to int in python ', 'how can concatenate series onto data frame with pandas ', 'custom python list sorting', 'how to get only div with id ending with certain value in beautiful soup ', 'how can solve system of linear equations in sym py ', 'best way to extract subset of key-value pairs from python dictionary object', 'best way to extract subset of key-value pairs from python dictionary object', 'best way to extract subset of key-value pairs from python dictionary object', 'best way to extract subset of key-value pairs from python dictionary object', 'get contents of entire page using selenium', 'extracting specific columns in numpy array', 'remove string between characters from text string', 'how can resize the root window in tkinter ', 'how to capture the entire string while using lookaround with chars in regex ', 'in python how to convert list of float numbers to string with certain format ', 'in python how to convert list of float numbers to string with certain format ', 'getting the first elements per row in an array in python ', 'how to obtain the day of the week in letter format from datetime object in python ', 'get the href http en wikipedia org wiki ascii rel nofollow noreferrer ascii value of character as an int', 'get the href http en wikipedia org wiki ascii rel nofollow noreferrer ascii value of character as an int', 'get the href http en wikipedia org wiki ascii rel nofollow noreferrer ascii value of character as an int', 'decode json', 'deleting mulitple columns in pandas', 'how to read formatted input in python ', 'convert binary to list of digits python', 'how to get max string length in nested lists', 'how to get max string length in nested lists', 'python how to redirect output with subprocess ', 'how do sort list of strings in python ', 'how do sort list of strings in python ', 'how do sort list of strings in python ', 'how do sort list of strings in python ', 'set multi index of an existing data frame in pandas', 'how can use string with the same name of an object in python to access the object itself ', 'remove the first word in python string ', 'how to save xlsxwriter file in certain path ', 'how to save xlsxwriter file in certain path ', 'how to change legend size with matplotlib pyplot', 'how to change legend size with matplotlib pyplot', 'how do you split list into evenly sized chunks ', 'how do you split list into evenly sized chunks ', 'how to check if character exists in data frame cell', 'python regex remove special characters but preserve apostraphes', 'find all digits between character in python', 'use index in pandas to plot data', 'how to get data from command line from within python program ', 'easy way to convert unicode list to list containing python strings ', 'pandas combine two columns in data frame', 'how can generate list of consecutive numbers ', 'how to make python string out of non-ascii bytes ', 'using inheritance in python', 'removing items from unnamed lists in python', 'randomly select an item from list', 'python check if all of the following items is in list', 'python check if all of the following items is in list', 'pass string into subprocess popen', 'pass string into subprocess popen', 'most pythonic way to convert list of tuples', 'most pythonic way to convert list of tuples', 'simple efficient way to expand pandas dataframe', 'splitting string and removing whitespace python', 'get all object attributes', 'get all object attributes', 'get all object attributes', 'how to center window with py object', 'how to change the size of the sci notation above the axis in matplotlib ', 'python pandas check if any value is na in data frame', 'python use list as function parameters', 'how to decode encode uri component in gae python ', 'percentage match in pandas dataframe', 'how to convert tuple to string in python ', 'how to convert tuple to string in python ', 'how to convert tuple to string in python ', 'python get focused entry name', 'how to declare an array in python', 'how can remove duplicate words in string with python ', 'how to generate random numbers that are different ', 'how to generate random numbers that are different ', 'dictionary to lowercase in python', 'dictionary to lowercase in python', 'dictionary to lowercase in python', 'sorting list of list in python', 'is there way to get list of column names in sqlite ', 'finding out absolute path to file from python', 'how to sort array by row in python ', 'finding index of the same elements in list', 'how to print container object with unicode-containing values ', 'python regular expressions how to capture multiple groups from wildcard expression ', 'check whether file exists', 'check whether file exists', 'check whether file exists', 'check whether file exists', 'check whether file exists', 'check whether file exists', 'check whether file exists', 'check whether file exists', 'check whether file exists', 'split strings with multiple delimiters ', 'why can you loop through an implicit tuple in for loop but not comprehension in python ', 'pythonically add header to csv file', 'how to flatten tuple in python', 'python how to convert int to string represent bit hex number', 'how can convert python dictionary to list of tuples ', 'how can convert python dictionary to list of tuples ', 'how can convert python dictionary to list of tuples ', 'how can convert python dictionary to list of tuples ', 'what the easiest way to convert list of hex byte strings to list of hex integers ', 'what the easiest way to convert list of hex byte strings to list of hex integers ', 'two values from one input in python ', 'django filter json field list of dicts', 'is there cleaner way to iterate through all binary -tuples ', 'python get yesterday date as string in yyyy mm dd format', 'python multiply vector by matrix without num py', 'parse dates in pandas', 'importing files from different folder', 'how can pandas merge preserve order ', 'how can create the empty json object in python', 'slicing list into list of sub-lists', 'slicing list into list of sub-lists', 'slicing list into list of sub-lists', 'sorting numbers in string format with python', 'sorting numbers in string format with python', 'numpy with python convert array to d', 'replacing few values in pandas dataframe column with another value', 'replacing few values in pandas dataframe column with another value', 'pandas subtract row mean from each element in row', 'python remove all non-alphabet chars from string', 'how to split string into integers in python ', 'how to split string into integers in python ', 'how to split string into integers in python ', 'get the indexes of truthy elements of boolean list as list tuple', 'how to group pandas data frame entries by date in non-unique column', 'getting the indices of several elements in num py array at once', 'in python how to display current time in readable format', 'rotate axis text in python matplotlib', 'how does python do string magic ', 'array indexing in numpy', 'how do pull recurring key from json ', 'read file from redirected stdin with python', 'how to get the content of html page in python', 'extracting all rows from pandas dataframe that have certain value in specific column', 'removing duplicate characters from string', 'how to sort by computed value in django', 'python pandas flatten dataframe to list', 'how do sort python list of dictionaries given list of ids with the desired order ', 'how do sort python list of dictionaries given list of ids with the desired order ', 'python requests library how to pass authorization header with single token', 'how do un-escape backslash-escaped string in python ', 'can have non-greedy regex with dotall ', 'python numpy how to get array column length ', 'adding calculated column to dataframe in pandas', 'count number of occurrences of given substring in string', 'get list of values from list of dictionaries in python', 'get list of values from list of dictionaries in python', 'get list of values from list of dictionaries in python', 'how to order list of lists by the first value', 'how to order list of lists by the first value', 'case sensitive string replacement in python', 'python dictionary to string custom format ', 'how to write unicode csv in python ', 'how to clear the screen in python', 'how to clear the screen in python', 'in python how can execute external commands with csh instead of bash ', 'in python how can execute external commands with csh instead of bash ', 'updating list of python dictionaries with key value pair from another list', 'sum each value in list of tuples', 'sum each value in list of tuples', 'counting the number of non na elements in numpy ndarray matrix in python', 'python transform list of lists of tuples', 'django taking values from post request', 'check if string ends with one of the strings from list', 'splitting strings in python', 'get top biggest values from each column of the pandas data frame', 'how do permanently set the current directory to the desktop in python ', 'getting string between characters in python', 'getting string between characters in python', 'how to format date in iso using python ', 'selecting specific column in each row from array', 'selecting specific column in each row from array', 'counting values in dictionary', 'sub matrix of list of lists without numpy ', 'how to call an element in an numpy array ', 'setting matplotlib colorbar range', 'read csv into record array in numpy', 'read csv into record array in numpy', 'read csv into record array in numpy', 'read csv into record array', 'how do read the first line of string ', 'how do read the first line of string ', 'how to generate list from pandas data frame with the column name and column values ', 'how to replace repeated instances of character with single instance of that character in python', 'how to replace repeated instances of character with single instance of that character in python', 'multiplying values from two different dictionaries together in python', 'random strings in python', 'how to count all elements in nested dictionary ', 'how to count all elements in nested dictionary ', 'how to apply logical operator to all elements in python list', 'removing characters from string python', 'divide two lists in python', 'capturing group with findall ', 'applying functions to groups in pandas dataframe', 'searching if the values on list is in the dictionary whose format is key-string value-list strings ', 'searching if the values on list is in the dictionary whose format is key-string value-list strings ', 'add tuple to list of tuples', 'python get relative path from comparing two absolute paths', 'python get relative path from comparing two absolute paths', 'filtering grouped df in pandas', 'python sorting dictionary of lists', 'what is the most pythonic way to avoid specifying the same value in string', 'how to reorder indexed rows based on list in pandas data frame', 'determine if list contains other lists', 'get the size of list', 'get the size of list', 'get the size of list', 'get the size of list', 'get the size of list', 'fastest way to sort each row in pandas dataframe', 'fastest way to sort each row in pandas dataframe', 'pandas data frame groupby two columns and get counts', 'how would check string for certain letter in python ', 'delete dictionary item if the key exists', 'delete dictionary item if the key exists', 'delete dictionary item if the key exists', 'multiple positional arguments with python and argparse', 'how to avoid line color repetition in matplotlib pyplot ', 'strip html from strings in python', 'align numpy array according to another array', 'how to split string on the first instance of delimiter in python', 'control print format when printing list in python', 'control print format when printing list in python', 'control print format when printing list in python', 'how to move to one folder back in python', 'convert unicode to utf python', 'how can convert binary to float number', 'how can convert binary to float number', 'how can convert binary to float number', 'plotting categorical data with pandas and matplotlib', 'plotting categorical data with pandas and matplotlib', 'read lines containing integers from file in python ', 'pandas how to apply multiple functions to dataframe', 'sorting dictionary by numeric value', 'how do find the largest integer less than ', 'check if the string is empty', 'most elegant way to check if the string is empty', 'most elegant way to check if the string is empty', 'check if the string is empty', 'iterate over dictionary in sorted order', 'iterate over dictionary in sorted order', 'iterate over dictionary in sorted order', 'iterate over dictionary in sorted order', 'iterate over dictionary in sorted order', 'iterate over dictionary in sorted order', 'finding the last occurrence of an item in list python', 'convert list to string', 'convert list to string', 'convert list to string', 'convert list to string', 'remove none value from list without removing the value', 'how do select random element from an array in python ', 'creating d matrix in python', 'numpy get random set of rows from array', 'numpy get random set of rows from array', 'combining rows in pandas', 'parsing xml with namespace in python via element tree ', 'how do generate random string of length a-z only in python ', 'python cant find module in the same folder', 'round number to nearest integer', 'round number to nearest integer', 'round number to nearest integer', 'round number to nearest integer', 'round number to nearest integer', 'round number to nearest integer', 'round number to nearest integer', 'round number to nearest integer', 'round number to nearest integer', 'round number to nearest integer', 'round number to nearest integer', 'round number to nearest integer', 'pandas fill na with another column', 'python logging type error not all arguments converted during string formatting', 'python logging type error not all arguments converted during string formatting', 'in dictionary converting the value from string to integer', 'how can add the corresponding elements of several lists of numbers ', 'python how to convert string containing hex bytes to hex string', 'python how to convert string containing hex bytes to hex string', 'mitm proxy over ssl hangs on wrap socket with client', 'mitm proxy over ssl hangs on wrap socket with client', 'set value for particular cell in pandas data frame', 'norm along row in pandas', 'how do remove identical items from list and sort it in python ', 'python finding index of maximum in list', 'python accessing values in list of dictionaries', 'python accessing values in list of dictionaries', 'how to grab one random item from database in django postgre sql ', 'run python script from another python script passing in args', 'python regex for hyphenated words', 'create variable key value pairs with argparse python ', 'how do you pick number of unique numbers from list in python ', 'sort list of strings based on regular expression match or something similar', 'sort list of strings based on regular expression match or something similar', 'appending to lists in python', 'sort num py float array column by column', 'python list comprehension for loops', 'trimming string', 'trimming string', 'trimming string', 'trimming string', 'trimming string', 'trimming string', 'trimming string', 'trimming string', 'trimming string', 'trimming string', 'trimming string', 'sort list of tuples depending on two elements', 'python encoding output to utf ', 'how do vectorize this loop in numpy ', 'how to convert efficiently dataframe column of string type into datetime in python ', 'how to gracefully fallback to na value while reading integers from csv with pandas ', 'how to gracefully fallback to na value while reading integers from csv with pandas ', 'all combinations of list of lists', 'how to extract all upper from string python', 'get date from iso week number in python', 'how to read c source iso text ', 'list comprehensions in python efficient selection in list', 'regex matching -digit substrings not enclosed with digits', 'filtering elements from list of lists in python ', 'python how to convert currency to decimal ', 'remove final characters from string recursively what the best way to do this ', 'creating an empty list', 'creating an empty list', 'creating an empty list', 'creating an empty list', 'how to properly quit program in python', 'add string in certain position in python', 'python how to append new elements in list of list ', 'python how to append new elements in list of list ', 'changing the referrer url in python requests', 'python matplotlib subplot how to set the axis range ', 'pandas convert column of list to dummies', 'finding the largest delta between two integers in list in python', 'how to convert hex string to integer in python ', 'check if string is number float ', 'check if string is number', 'check if string is number', 'pandas read csv how to skip comment lines', 'pandas how to change all the values of column ', 'sum list of numbers in python', 'how to get the index of dictionary with the highest value in list of dictionary', 'get data from the meta tags using beautiful soup', 'python how to get rid of spaces in str dict ', 'python how to get rid of spaces in str dict ', 'python insert character into string', 'python insert character into string', 'how do delete row in numpy array which contains zero ', 'extracting only characters from string in python', 'extracting only characters from string in python', 'create union of all values contained in multiple lists', 'create union of all values contained in multiple lists', 'python check if an numpy array contains any element of another array', 'removing control characters from string in python', 'how to compare two lists in python', 'python selenium click on button', 'python selenium click on button', 'is it possible to kill process on windows from within python ', 'how to get current date and time from db using sql alchemy', 'remove duplicate chars using regex ', 'regex to remove periods in acronyms ', 'how to parse list or string into chunks of fixed length', 'replacing all regex matches in single line', 'output data from all columns in dataframe in pandas', 'output data from all columns in dataframe in pandas', 'modifying subset of rows in pandas dataframe', 'selecting element followed by text with selenium web driver', 'ordering list of dictionaries in python', 'ordering list of dictionaries in python', 'from list of lists to dictionary', 'sorting dictionary keys based on their values', 'python how to round to instead of ', 'how do create file in python without overwriting an existing file', 'how to slice list of strings with space delimiter ', 'reverse string', 'reverse string', 'reverse string', 'reverse string', 'reverse string', 'reverse string', 'reverse string', 'reverse string', 'generate sequence of numbers in python', 'how to convert this list into dictionary', 'sorting list of tuples in python', 'sorting list of tuples in python', 'concatenating two one-dimensional num py arrays', 'writing list to file with python', 'writing list to file with python', 'writing list to file with python', 'writing list to file with python', 'sql alchemy better way for update with declarative ', 'how to send cookies in post request with the python requests library ', 'how to include third party python libraries in google app engine ', 'get current time', 'get current time', 'get current time', 'get current time', 'get current time', 'converting hex to int in python', 'python pandas identify duplicated rows with additional column', 'how to get utc time in python ', 'python make last item of array become the first', 'pandas how to run pivot with multi-index ', 'pandas how to run pivot with multi-index ', 'how to print show an expression in rational number form in python', 'what is the best way to sort list with custom sorting parameters in python ', 'how to loop backwards in python ', 'get element value with minidom with python', 'simple threading in python using thread start new thread ', 'simple threading in python using thread start new thread ', 'how to find all positions of the maximum value in list ', 'regex add character to matched string', 'how to turn string of letters embedded in squared brackets into embedded lists', 'extract item from list of dictionaries', 'extract item from list of dictionaries', 'python simplest way to get list of values from dict ', 'string manipulation in cython', 'set execute bit for file using python', 'pandas to csv call is prepending comma', 'python regex to remove all words which contains number', 'how can control the keyboard and mouse with python ', 'how to parse dates with timezone string in python ', 'python locating the position of regex match in string ', 'python locating the position of regex match in string ', 'how to input an integer tuple from user ', 'how to input an integer tuple from user ', 'how to replace unicode characters in string with something else python ', 'how to replace unicode characters in string with something else python ', 'how to convert ndarray to array ', 'what os am running on', 'what os am running on', 'what os am running on', 'what is the most pythonic way to exclude elements of list that start with specific character ', 'python string formatting when string contains %s without escaping', 'list of tuples string float with na how to get the min value ', 'python finding average of nested list', 'how do add custom field to python log format string ', 'finding non-numeric rows in dataframe in pandas ', 'sort list of mixed strings based on digits', 'function to close the window in tkinter', 'calcuate mean for selected rows for selected columns in pandas data frame', 'how to filter by sub-level index in pandas', 'deleting row with flask sql alchemy', 'how do convert unicode to string at the python level ', 'how do convert unicode to string at the python level ', 'directory listing', 'directory listing', 'how to rename all folders ', 'pythonic way to insert every elements in string', 'printing numbers in python', 'add element to json in python', 'retrieving python module path', 'retrieving python module path', 'retrieving python module path', 'padding list in python with particular value', 'fastest way to drop duplicated index in pandas data frame', 'is there more pythonic way of exploding list over function arguments ', 'generate list of numbers in specific format', 'summarizing dictionary of arrays in python', 'summarizing dictionary of arrays in python', 'get index of character in python list', 'how to set font size of matplotlib axis legend ', 'python convert string to an integer', 'how to extract the n-th elements from list of tuples in python ', 'getting the opposite diagonal of numpy array', 'convert list of tuples to list ', 'removing white space from txt with python', 'limiting floats to two decimal points', 'limiting floats to two decimal points', 'limiting floats to two decimal points', 'limiting floats to two decimal points', 'limiting floats to two decimal points', 'limiting floats to two decimal points', 'limiting floats to two decimal points', 'limiting floats to two decimal points', 'how to load tsv file into pandas data frame ', 'how to set utc offset for datetime ', 'passing list of parameters to sql in psycopg ', 'how would sum multi-dimensional array in the most succinct python ', 'access an arbitrary element in dictionary in python', 'access an arbitrary element in dictionary in python', 'pandas aggregate based on filter on another column', 'sorting list of tuples by arbitrary key', 'python sort list of dics by value of dict dict value', 'how can remove the fragment identifier from url ', 'how to download to specific directory with python ', 'removing duplicates of list of sets', 'removing duplicates of list of sets', 'how to terminate process from python using pid ', 'delete all objects in list', 'how to throw an error window in python in windows', 'remove empty strings from list of strings', 'how to remove whitespace in beautiful soup', 'dot notation string manipulation', 'removing elements from an array that are in another array', 'write to csv from data frame python pandas', 'call python script from another python script', 'call python script from another python script', 'how do sort zipped list in python ', 'how do sort zipped list in python ', 'sorting dictionary by value then by key', 'using beautiful soup to select div blocks within html', 'remove list of indices from list in python', 'comparing two lists in python', 'http file downloading and saving', 'http file downloading and saving', 'http file downloading and saving', 'accented characters in matplotlib', 'how to get list of all integer points in an n-dimensional cube using python ', 'how can convert unicode string into string literals in python ', 'python how to format variable number of arguments into string ', 'python regex search and split', 'python regex search and split', 'convert list of dictionaries to dataframe', 'how to split string into words that do not contain whitespaces in python ', 'how to split string into words that do not contain whitespaces in python ', 'python pandas apply function with arguments to series', 'python how to remove all duplicate items from list', 'sum of product of combinations in list', 'using variables in python regular expression', 'in python how do convert all of the items in list to floats ', 'how can multiply all items in list together with python ', 'how to write tuple of tuples to csv file using python', 'how to write tuple of tuples to csv file using python', 'python format string', 'replace string in list of lists', 'python split elements of list', 'splitting string by using two substrings in python', 'python locating and clicking specific button with selenium', 'getting file size in python ', 'how do return string from regex match in python', 'how to change folder names in python ', 'how to find overlapping matches with regexp ', 'express binary literals', 'express binary literals', 'express binary literals', 'express binary literals', 'express binary literals', 'express binary literals', 'delete digits in python regex ', 'delete digits in python regex ', 'delete digits in python regex ', 'python split string', 'how can split this comma-delimited string in python ', 'how can split this comma-delimited string in python ', 'how to remove parentheses only around single words in string', 'how to open url in python', 'how to open url in python', 'py qt push button background color', 'zip and apply list of functions over list of values in python', 'how do modify the width of text ctrl in wx python ', 'displaying grayscale image', 'how can replace all the na values with zero in column of pandas dataframe', 'how to export table dataframe in pyspark to csv ', 'how to export table dataframe in pyspark to csv ', 'sum the second value of each tuple in list', 'how to sum the nlargest integers in groupby', 'what would be the python code to add time to specific timestamp ', 'how to properly determine current script directory in python ', 'how can do multiple substitutions using regex in python ', 'python convert tuple to string', 'how to get full path of current file directory in python ', 'variable number of digit in format string', 'get current url in python', 'print variable selected by random number', 'python sum string lengths', 'sort list by multiple attributes ', 'sort list by multiple attributes ', 'how to disable query cache with mysql connector', 'filtering list of strings based on contents', 'how do find the first letter of each word ', 'get name of primary field of django model', 'how to count the number of words in sentence ', 'numpy matrix vector multiplication', 'check what version of python is running', 'check what version of python is running', 'format number using la te notation in python', 'python initializing list of lists', 'how to apply django jinja template filters escape and linebreaks correctly ', 'split list of tuples into sub-lists of the same tuple field', 'split list of tuples into sub-lists of the same tuple field', 'how can turn string into list in python ', 'pandas dataframe create new columns and fill with calculated values from same df', 'getting list of all subdirectories in the current directory', 'getting list of all subdirectories in the current directory', 'how to filter dictionary in python ', 'how to filter dictionary in python ', 'how to filter dictionary in python ', 'how to count number of rows in group in pandas group by object ', 'python sum the values of lists of list', 'what the best way to search for python dictionary value in list of dictionaries ', ' array of objects in python', 'how to replace or strip an extension from filename in python ', 'how to get the resolution of monitor in pygame ', 'how can format float using matplotlib la te formatter ', 'print file age in seconds using python', ' django how to get month name ', ' django how to get month name ', 'join list of lists in python', 'join list of lists in python', 'convert date string to day of week', 'convert date string to day of week', 'delete list element by value', 'delete list element by value', 'delete list element by value', 'delete list element by value', 'delete list element by value', 'delete list element by value', 'python re findall print all patterns', 'outer product of each column of d array to form d array num py', 'getting the last element of list', 'getting the last element of list', 'gets the nth-to-last element', 'getting the last element of list', 'getting the last element of list', 'create list of integers with duplicate values in python', 'create list of integers with duplicate values in python', 'create list of integers with duplicate values in python', 'fastest way to remove first and last lines from python string', 'is there python dict without values ', 'how to zip lists in list', 'how to zip lists in list', 'python http request with token', 'get new string from the rd character to the end of the string', 'substring string', 'substring string', 'substring string', 'substring string', 'reversing string', 'selecting alternate characters', 'substring string', 'terminating python script', 'terminating python script', 'terminating python script', 'transform unicode string in python', 'get current cpu and ram usage', 'get current cpu and ram usage', 'get current cpu and ram usage', 'pandas read csv expects wrong number of columns with ragged csv file', 'first non-null value per row from list of pandas columns', 'format strings and named arguments in python', 'format strings and named arguments in python', 'how to convert strings numbers to integers in list ', 'add items to dictionary of lists', 'python converting from iso latin to utf ', 'how do you remove the column name row from pandas data frame ', 'how to get around single encountered in format string when using format and formatting in printing', 'python list of dicts get max value index', 'format in python regex', 'how to use user as foreign key in django ', 'regex match even number of letters', 'combining num py arrays', 'how to custom sort an alphanumeric list ', 'plot logarithmic axes with matplotlib in python', 'access environment variables', 'access environment variables', 'access environment variables', 'access environment variables', 'access environment variables', 'access environment variables', 'access environment variables', 'how to split string within list to create key-value pairs in python', 'finding index of an item closest to the value in list that not entirely sorted', 'how to use lxml to find an element by text ', 'how to use lxml to find an element by text ', 'how to use lxml to find an element by text ', 'python an efficient way to slice list with index list', 'multiplication of arrays in numpy', 'multiplication of arrays in numpy', 'execute file with arguments in python shell', 'pandas fill missing values by mean in each group faster than transfrom', 'python regex alternative for join', 'python regex alternative for join', 'index of element in numpy array', 'finding the most frequent character in string', 'how to match beginning of string or character in python', 'how to match beginning of string or character in python', 'how to get list of variables in specific python module ', 'get the first element of each tuple in list in python', 'get the first element of each tuple in list in python', 'how to repeat pandas data frame ', 'how to repeat pandas data frame ', 'sorting json in python by specific value', 'json to pandas data frame', 'generate random numbers with given numerical distribution', 'find maximum value of column and return the corresponding row values using pandas', 'finding recurring patterns in string', 'convert binary string to numpy array', 'convert binary string to numpy array', 'how to use variables in sql statement in python ', 'how to use variables in sql statement in python ', 'how to use variables in sql statement in python ', 'pandas split string into columns', 'pandas split string into columns', 'pandas split string into columns', 'wait for shell command to complete', 'unescaping escaped characters in string using python ', 'parse string with date to datetime object', 'copy file', 'copy file', 'copy file', 'joining list that has integer values with python', 'how to multiply multiple columns by column in pandas', 'convert string to hex in python', 'how to sum the values of list to the power of their indices', 'python django how to remove extra white spaces tabs from string ', 'how to strip comma in python string', 'how to resample dataframe with different functions applied to each column ', 'how do get rid of python tkinter root window ', 'creating pandas dataframe from elements of dictionary', 'how to obtain values of request variables using python and flask', 'how to obtain values of request variables using python and flask', 'how to read only part of list of strings in python', 'how to sort by length of string followed by alphabetical order ', 'how to slice dataframe having date field as index ', 'list comprehension with an accumulator', 'how to convert date string to different format', 'how to convert date string to different format', 'how to remove multiple columns that end with same text in pandas ', 'python how to extract the last elements from list', 'python how to extract the last elements from list', 'how to efficiently convert matlab engine arrays to numpy ndarray ', 'in pandas dataframe with multiindex how can filter by order ', 'how to convert list of numpy arrays into single numpy array ', 'how can convert literal escape sequences in string to the corresponding bytes ', 'how can convert literal escape sequences in string to the corresponding bytes ', 'how do merge two lists into single list ', 'how do merge two lists into single list ', 'removing character in list of strings', 'how to split word into letters in python', 'in django how do select random records from the database ', 'indexing one array by another in numpy', 'pandas pivot table of sales', 'confusing with the usage of regex in python', 'confusing with the usage of regex in python', 'splitting string based on certain set of words', 'splitting string based on certain set of words', 'splitting string based on certain set of words', 'how do zip keys with individual values in my lists in python ', 'python how to sort this list ', 'sorting numpy array on multiple columns in python', 'sorting numpy array on multiple columns in python', 'python find out whether list of integers is coherent', 'concatenate rows of pandas data frame with same id', 'double-decoding unicode in python', 'parse string to float or int', 'parse string to float or int', 'know if an object has an attribute', 'know if an object has an attribute', 'know if an object has an attribute', 'delete every nth row or column in matrix using python', 'how do create datetime in python from milliseconds ', 'fastest way to find the magnitude length squared of vector field', 'simple url get post function', 'simple url get post function', 'simple url get post function', 'simple url get post', 'slicing list in django template', 'pandas hdf store how to reopen ', 'find last occurence of multiple characters in string in python', 'how to print unicode character in python ', 'how to print unicode character in python ', 'in python how do convert single digit number into double digits string ', 'best most pythonic way to get an ordered list of unique items', 'pandas data frame to list', 'pandas data frame to list', 'escaping quotes in string', 'how to check if character is upper-case in python ', 'what is the best way to remove dictionary item by value in python ', 'what is the best way to remove dictionary item by value in python ', 'how can determine the byte length of utf encoded string in python ', 'in python how do kill subprocess ', 'python pandas how to select rows with one or more nulls from data frame without listing columns explicitly ', 'strip random characters from url', 'expat parsing in python ', 'how do halt execution in python script ', 'how to dynamically assign values to class properties in python ', 'how to decode url-encoded string in python', 'how to decode url-encoded string in python', 'how to use flask security register view ', 'io error while storing data in pickle', 'remove an element from list by index', 'remove an element from list by index', 'remove an element from list by index', 'remove an element from list by index', 'remove an element from list by index', 'how do print celsius symbol with matplotlib ', 'how do print celsius symbol with matplotlib ', ' list of lists to list without losing empty lists from the original list of lists', 'how do get list of all the duplicate items using pandas in python ', 'deleting rows in numpy array', 'deleting rows in numpy array', 'merge data frames in pandas using the mean', 'average values in two numpy arrays', 'changing marker size in matplotlib', 'split items in list', 'converting json date string to python datetime', 'python comprehension loop for dictionary', 'how to base encode pdf file in python', 'split string in python', 'split string in python', 'how can return http status code from django view ', 'check if value exist in list', 'check if value exist in list', 'sorting json data by keys value', 'how do get current url in selenium webdriver python ', 'python split string with multiple delimiters', 'unescaping characters in string with python', 'convert string date to timestamp in python', 'convert string date to timestamp in python', 'how to get http headers in flask ', 'how to subset data frame using pandas based on group criteria ', 'how to subset data frame using pandas based on group criteria ', 'how to subset data frame using pandas based on group criteria ', 'how do find an element that contains specific text in selenium webdriver python ', 'convert pandas group by object to multi-indexed dataframe', 'how do coalesce sequence of identical characters into just one ', 'how to open file with the standard application ', 'convert unicode string to string', 'convert unicode string to string', 'get filtered list of files in directory', 'adding d array to d array in numpy', 'adding d array to d array in numpy', 'how can launch an instance of an application using python ', 'what is the proper way to print nested list with the highest value in python', 'functional statement in python to return the sum of certain lists in list of lists', 'python insert numbers in string between quotes', 'multiplying rows and columns of python sparse matrix by elements in an array', 'how to check if something exists in postgresql database using django ', 'sort nested list by two elements', 'django how to simply get domain name ', 'python regex get string between two substrings', 'call perl script from python', 'pythonic way to print list items', 'update dictionary with dynamic keys and values in python', 'how to split unicode string into list', 'convert utf with bom to utf with no bom in python', 'how do do not equal in django queryset filtering ', 'how can lookup an attribute in any scope by name ', 'how to make python script which can logoff shutdown and restart computer ', 'how to make python script which can logoff shutdown and restart computer ', 'how to make python script which can logoff shutdown and restart computer ', 'how to make python script which can logoff shutdown and restart computer ', 'how to make python script which can logoff shutdown and restart computer ', 'how to erase the file contents of text file in python ', 'how to erase the file contents of text file in python ', 'pandas data frame to list of dictionaries', 'pandas data frame to list of dictionaries', 'pandas dataframe groupby datetime month', 'how do divide the members of list by the corresponding members of another list in python ', 'sort dict by value python', 'sort dict by value python', 'sort dict by value python', 'sort dict by value python', 'how do display current time using python django ', 'find the nth occurrence of substring in string', 'how do you check the presence of many keys in python dictinary ', 'replace part of string in python ', 'how to use numpy savez in loop for save more than one array ', 'time offset', 'time offset', 'time offset', 'time offset', 'manipulating binary data in python', 'manipulating binary data in python', 'python iterating over subset of list of tuples', 'how to read stdin to d python array of integers ', 'is there way to refer to the entire matched expression in re sub without the use of group ', 'how to use regular expression in lxml xpath ', 'compare elements of list of lists and return list', 'convert list of strings to int', 'convert list of strings to int', 'numpy find index of elements in one array that occur in another array', 'split dictionary of lists into list of dictionaries', 'split dictionary of lists into list of dictionaries', 'get last day of the month', 'get last day of the month', 'get last day of the month', 'get last day of the month', 'get last day of the month', 'get last day of the month', 'calling an external command', 'calling an external command', 'calling an external command', 'calling an external command', 'calling an external command', 'calling an external command', 'calling an external command', 'calling an external command', 'calling an external command', 'url decode utf in python', 'url decode utf in python', 'delete letters from string', 'applying regex to pandas dataframe', 'sort tuples based on second parameter', 'find all occurrences of substring in python', 'find all occurrences of substring in python', 're split with spaces in python', 'working with set index in pandas data frame', 'recursively go through all subdirectories and read files', 'sorting list of dictionary values by date in python', 'how to truncate string using str format in python ', 'how do convert string of hexadecimal values to list of integers ', 'finding the index of an item given list containing it in python', 'how to generate all permutations of list in python', 'how to generate all permutations of list in python', 'remove punctuation from unicode formatted strings', 'manually throw raise an exception', 'manually raising throwing an exception', 'manually raising throwing an exception', 'manually raising throwing an exception', 'manually raising throwing an exception', 'manually raising throwing an exception', 'manually raising throwing an exception', 'manually raising throwing an exception', 'clear text from textarea with selenium', 'clear text from textarea with selenium', 'convert an ip string to number and vice versa', 'how to rearrange pandas column sequence ', 'how to call base class init method from the child class ', 'sum of all values in python dict', 'sum of all values in python dict', 'convert python dictionary to json array', 'numpy array assignment using slicing', 'sort list of dictionary provided an order', 'how to change the case of first letter of string ', 'how to change to using python', 'delete every non utf symbols froms string', 'how to execute command in the terminal from python script ', 'python my sql parameterized queries', 'convert string to datetime object in python']\n"
          ]
        }
      ],
      "source": [
        "print (summary)"
      ]
    },
    {
      "cell_type": "code",
      "execution_count": 24,
      "id": "06f1405b",
      "metadata": {
        "colab": {
          "base_uri": "https://localhost:8080/"
        },
        "id": "06f1405b",
        "outputId": "70d79dc0-f7c9-40f2-c943-35c30a41e5e1"
      },
      "outputs": [
        {
          "name": "stdout",
          "output_type": "stream",
          "text": [
            "                                                   code  \\\n",
            "0                        root attributes -topmost true    \n",
            "1                                            root lift    \n",
            "2                    hex int join str int for in walls    \n",
            "3          hex sum i for b in enumerate reversed walls    \n",
            "4                  print total score for name is score    \n",
            "...                                                 ...   \n",
            "2158                                              join    \n",
            "2159            line line decode utf ignore encode utf    \n",
            "2160                                 os system command    \n",
            "2161  c execute select from foo where bar %s and baz...   \n",
            "2162  dateobj datetime datetime strptime datestr y-%...   \n",
            "\n",
            "                                              docstring  \n",
            "0                 how to make window jump to the front   \n",
            "1                 how to make window jump to the front   \n",
            "2             elegant way to convert list to hex string  \n",
            "3             elegant way to convert list to hex string  \n",
            "4                    print multiple arguments in python  \n",
            "...                                                 ...  \n",
            "2158                      how to change to using python  \n",
            "2159          delete every non utf symbols froms string  \n",
            "2160  how to execute command in the terminal from py...  \n",
            "2161                python my sql parameterized queries  \n",
            "2162        convert string to datetime object in python  \n",
            "\n",
            "[2163 rows x 2 columns]\n"
          ]
        },
        {
          "name": "stderr",
          "output_type": "stream",
          "text": [
            "C:\\Users\\91709\\AppData\\Local\\Temp/ipykernel_12848/3996866731.py:1: SettingWithCopyWarning: \n",
            "A value is trying to be set on a copy of a slice from a DataFrame.\n",
            "Try using .loc[row_indexer,col_indexer] = value instead\n",
            "\n",
            "See the caveats in the documentation: https://pandas.pydata.org/pandas-docs/stable/user_guide/indexing.html#returning-a-view-versus-a-copy\n",
            "  df_code_p['code'] = code\n",
            "C:\\Users\\91709\\AppData\\Local\\Temp/ipykernel_12848/3996866731.py:2: SettingWithCopyWarning: \n",
            "A value is trying to be set on a copy of a slice from a DataFrame.\n",
            "Try using .loc[row_indexer,col_indexer] = value instead\n",
            "\n",
            "See the caveats in the documentation: https://pandas.pydata.org/pandas-docs/stable/user_guide/indexing.html#returning-a-view-versus-a-copy\n",
            "  df_code_p['docstring'] = summary\n"
          ]
        }
      ],
      "source": [
        "df_code_p['code'] = code\n",
        "df_code_p['docstring'] = summary\n",
        "print(df_code_p)"
      ]
    },
    {
      "cell_type": "markdown",
      "id": "7l_u2KLRdhFB",
      "metadata": {
        "id": "7l_u2KLRdhFB"
      },
      "source": [
        "# **As all codes and docstrings are of different lengths, we can calculate the average length of pre-processed text in both the columns and decide on the length of the codes and doscstrings**"
      ]
    },
    {
      "cell_type": "markdown",
      "id": "tDwx18dDdr2u",
      "metadata": {
        "id": "tDwx18dDdr2u"
      },
      "source": [
        "# **So ,first we collect the length of all records in a columns**"
      ]
    },
    {
      "cell_type": "code",
      "execution_count": 25,
      "id": "0b98fcfa",
      "metadata": {
        "colab": {
          "base_uri": "https://localhost:8080/",
          "height": 1000
        },
        "id": "0b98fcfa",
        "outputId": "9e9fe61c-56ca-48f8-bea3-c33590114461"
      },
      "outputs": [
        {
          "name": "stdout",
          "output_type": "stream",
          "text": [
            "0                          root attributes -topmost true \n",
            "1                                              root lift \n",
            "2                      hex int join str int for in walls \n",
            "3            hex sum i for b in enumerate reversed walls \n",
            "4                    print total score for name is score \n",
            "                              ...                        \n",
            "2158                                                join \n",
            "2159              line line decode utf ignore encode utf \n",
            "2160                                   os system command \n",
            "2161    c execute select from foo where bar %s and baz...\n",
            "2162    dateobj datetime datetime strptime datestr y-%...\n",
            "Name: code, Length: 2163, dtype: object\n"
          ]
        }
      ],
      "source": [
        " import matplotlib.pyplot as plt\n",
        "\n",
        " text_count = []\n",
        " summary_count = []\n",
        "\n",
        "\n",
        " print(df_code_p['code'])\n",
        " for sent in df_code_p['code']:\n",
        "    #  print (sent)\n",
        "     text_count.append(len(sent.split()))\n",
        "    \n",
        " for sent in df_code_p['docstring']:\n",
        "     summary_count.append(len(sent.split()))"
      ]
    },
    {
      "cell_type": "code",
      "execution_count": 16,
      "id": "KdVFEwDJMXeo",
      "metadata": {
        "colab": {
          "base_uri": "https://localhost:8080/",
          "height": 281
        },
        "id": "KdVFEwDJMXeo",
        "outputId": "d5045c79-b005-4c60-c215-9e909ccf527e"
      },
      "outputs": [
        {
          "data": {
            "image/png": "[encoded data removed]",
            "text/plain": [
              "<Figure size 432x288 with 2 Axes>"
            ]
          },
          "metadata": {
            "needs_background": "light"
          },
          "output_type": "display_data"
        }
      ],
      "source": [
        " graph_df = pd.DataFrame() \n",
        "\n",
        " graph_df['text'] = text_count\n",
        " graph_df['summary'] = summary_count\n",
        "\n",
        " graph_df.hist(bins = 10)\n",
        " plt.show()"
      ]
    },
    {
      "cell_type": "markdown",
      "id": "jajhg3NYc32B",
      "metadata": {
        "id": "jajhg3NYc32B"
      },
      "source": [
        "# **Based on the distribution across bins,we can set the maximum length**"
      ]
    },
    {
      "cell_type": "code",
      "execution_count": 26,
      "id": "542b4734",
      "metadata": {
        "colab": {
          "base_uri": "https://localhost:8080/",
          "height": 424
        },
        "id": "542b4734",
        "outputId": "79a8f8e8-b79a-4f2f-80b8-1aa2d7f621cb"
      },
      "outputs": [
        {
          "data": {
            "text/html": [
              "<div>\n",
              "<style scoped>\n",
              "    .dataframe tbody tr th:only-of-type {\n",
              "        vertical-align: middle;\n",
              "    }\n",
              "\n",
              "    .dataframe tbody tr th {\n",
              "        vertical-align: top;\n",
              "    }\n",
              "\n",
              "    .dataframe thead th {\n",
              "        text-align: right;\n",
              "    }\n",
              "</style>\n",
              "<table border=\"1\" class=\"dataframe\">\n",
              "  <thead>\n",
              "    <tr style=\"text-align: right;\">\n",
              "      <th></th>\n",
              "      <th>code</th>\n",
              "      <th>summary</th>\n",
              "    </tr>\n",
              "  </thead>\n",
              "  <tbody>\n",
              "    <tr>\n",
              "      <th>0</th>\n",
              "      <td>root attributes -topmost true</td>\n",
              "      <td>how to make window jump to the front</td>\n",
              "    </tr>\n",
              "    <tr>\n",
              "      <th>1</th>\n",
              "      <td>root lift</td>\n",
              "      <td>how to make window jump to the front</td>\n",
              "    </tr>\n",
              "    <tr>\n",
              "      <th>2</th>\n",
              "      <td>hex int join str int for in walls</td>\n",
              "      <td>elegant way to convert list to hex string</td>\n",
              "    </tr>\n",
              "    <tr>\n",
              "      <th>3</th>\n",
              "      <td>hex sum i for b in enumerate reversed walls</td>\n",
              "      <td>elegant way to convert list to hex string</td>\n",
              "    </tr>\n",
              "    <tr>\n",
              "      <th>4</th>\n",
              "      <td>print total score for name is score</td>\n",
              "      <td>print multiple arguments in python</td>\n",
              "    </tr>\n",
              "    <tr>\n",
              "      <th>...</th>\n",
              "      <td>...</td>\n",
              "      <td>...</td>\n",
              "    </tr>\n",
              "    <tr>\n",
              "      <th>2156</th>\n",
              "      <td>join</td>\n",
              "      <td>how to change to using python</td>\n",
              "    </tr>\n",
              "    <tr>\n",
              "      <th>2157</th>\n",
              "      <td>line line decode utf ignore encode utf</td>\n",
              "      <td>delete every non utf symbols froms string</td>\n",
              "    </tr>\n",
              "    <tr>\n",
              "      <th>2158</th>\n",
              "      <td>os system command</td>\n",
              "      <td>how to execute command in the terminal from py...</td>\n",
              "    </tr>\n",
              "    <tr>\n",
              "      <th>2159</th>\n",
              "      <td>c execute select from foo where bar %s and baz...</td>\n",
              "      <td>python my sql parameterized queries</td>\n",
              "    </tr>\n",
              "    <tr>\n",
              "      <th>2160</th>\n",
              "      <td>dateobj datetime datetime strptime datestr y-%...</td>\n",
              "      <td>convert string to datetime object in python</td>\n",
              "    </tr>\n",
              "  </tbody>\n",
              "</table>\n",
              "<p>2161 rows × 2 columns</p>\n",
              "</div>"
            ],
            "text/plain": [
              "                                                   code  \\\n",
              "0                        root attributes -topmost true    \n",
              "1                                            root lift    \n",
              "2                    hex int join str int for in walls    \n",
              "3          hex sum i for b in enumerate reversed walls    \n",
              "4                  print total score for name is score    \n",
              "...                                                 ...   \n",
              "2156                                              join    \n",
              "2157            line line decode utf ignore encode utf    \n",
              "2158                                 os system command    \n",
              "2159  c execute select from foo where bar %s and baz...   \n",
              "2160  dateobj datetime datetime strptime datestr y-%...   \n",
              "\n",
              "                                                summary  \n",
              "0                 how to make window jump to the front   \n",
              "1                 how to make window jump to the front   \n",
              "2             elegant way to convert list to hex string  \n",
              "3             elegant way to convert list to hex string  \n",
              "4                    print multiple arguments in python  \n",
              "...                                                 ...  \n",
              "2156                      how to change to using python  \n",
              "2157          delete every non utf symbols froms string  \n",
              "2158  how to execute command in the terminal from py...  \n",
              "2159                python my sql parameterized queries  \n",
              "2160        convert string to datetime object in python  \n",
              "\n",
              "[2161 rows x 2 columns]"
            ]
          },
          "execution_count": 26,
          "metadata": {},
          "output_type": "execute_result"
        }
      ],
      "source": [
        "max_code_len = 25\n",
        "max_summary_len = 20\n",
        "\n",
        "\n",
        "# Select the Summaries and Text which fall below max length \n",
        "\n",
        "import numpy as np\n",
        "\n",
        "cleaned_code = np.array(df_code_p['code'])\n",
        "cleaned_summary= np.array(df_code_p['docstring'])\n",
        "\n",
        "short_text = []\n",
        "short_summary = []\n",
        "\n",
        "for i in range(len(cleaned_code)):\n",
        "    if len(cleaned_summary[i].split()) <= max_summary_len and len(cleaned_code[i].split()) <= max_code_len:\n",
        "        short_text.append(cleaned_code[i])\n",
        "        short_summary.append(cleaned_summary[i])\n",
        "        \n",
        "post_code = pd.DataFrame({'code': short_text,'summary': short_summary})\n",
        "\n",
        "post_code"
      ]
    },
    {
      "cell_type": "code",
      "execution_count": 27,
      "id": "ef5fce89",
      "metadata": {
        "colab": {
          "base_uri": "https://localhost:8080/",
          "height": 112
        },
        "id": "ef5fce89",
        "outputId": "cb41ac73-4c73-4d14-d856-24631304f7a1"
      },
      "outputs": [
        {
          "data": {
            "text/html": [
              "<div>\n",
              "<style scoped>\n",
              "    .dataframe tbody tr th:only-of-type {\n",
              "        vertical-align: middle;\n",
              "    }\n",
              "\n",
              "    .dataframe tbody tr th {\n",
              "        vertical-align: top;\n",
              "    }\n",
              "\n",
              "    .dataframe thead th {\n",
              "        text-align: right;\n",
              "    }\n",
              "</style>\n",
              "<table border=\"1\" class=\"dataframe\">\n",
              "  <thead>\n",
              "    <tr style=\"text-align: right;\">\n",
              "      <th></th>\n",
              "      <th>code</th>\n",
              "      <th>summary</th>\n",
              "    </tr>\n",
              "  </thead>\n",
              "  <tbody>\n",
              "    <tr>\n",
              "      <th>0</th>\n",
              "      <td>root attributes -topmost true</td>\n",
              "      <td>sostok how to make window jump to the front  e...</td>\n",
              "    </tr>\n",
              "    <tr>\n",
              "      <th>1</th>\n",
              "      <td>root lift</td>\n",
              "      <td>sostok how to make window jump to the front  e...</td>\n",
              "    </tr>\n",
              "  </tbody>\n",
              "</table>\n",
              "</div>"
            ],
            "text/plain": [
              "                             code  \\\n",
              "0  root attributes -topmost true    \n",
              "1                      root lift    \n",
              "\n",
              "                                             summary  \n",
              "0  sostok how to make window jump to the front  e...  \n",
              "1  sostok how to make window jump to the front  e...  "
            ]
          },
          "execution_count": 27,
          "metadata": {},
          "output_type": "execute_result"
        }
      ],
      "source": [
        "post_code['summary'] = post_code['summary'].apply(lambda x: 'sostok ' + x \\\n",
        "        + ' eostok')\n",
        "\n",
        "post_code.head(2)"
      ]
    },
    {
      "cell_type": "markdown",
      "id": "yTR5jTvT_hkH",
      "metadata": {
        "id": "yTR5jTvT_hkH"
      },
      "source": [
        "# **We use the pre-processed codes and summaries that are within the maximum length and divide into train and test sets**"
      ]
    },
    {
      "cell_type": "code",
      "execution_count": 35,
      "id": "6e2b3685",
      "metadata": {
        "colab": {
          "base_uri": "https://localhost:8080/"
        },
        "id": "6e2b3685",
        "outputId": "cf454b28-4f08-40d8-9ccc-401b704ff7bd"
      },
      "outputs": [
        {
          "name": "stdout",
          "output_type": "stream",
          "text": [
            "(1836,)\n",
            "(1836,)\n"
          ]
        }
      ],
      "source": [
        "from sklearn.model_selection import train_test_split\n",
        "\n",
        "x_train, x_validation, y_train, y_validation = train_test_split(\n",
        "    np.array(post_code[\"code\"]),\n",
        "    np.array(post_code[\"summary\"]),\n",
        "    test_size=0.15,\n",
        "    random_state=0,\n",
        "    shuffle=True,\n",
        ")\n",
        "print(x_train.shape)\n",
        "print(y_train.shape)"
      ]
    },
    {
      "cell_type": "markdown",
      "id": "fDMLU4IIAtWW",
      "metadata": {
        "id": "fDMLU4IIAtWW"
      },
      "source": [
        "## **We will not consider infrequent words in the vocabulary, as it may add noise**"
      ]
    },
    {
      "cell_type": "code",
      "execution_count": 36,
      "id": "81373b88",
      "metadata": {
        "colab": {
          "base_uri": "https://localhost:8080/"
        },
        "id": "81373b88",
        "outputId": "17e3a6ae-96ce-413b-c045-272287624d74"
      },
      "outputs": [
        {
          "name": "stdout",
          "output_type": "stream",
          "text": [
            "% of not frequent words in vocabulary:  45.55329260013578\n"
          ]
        }
      ],
      "source": [
        "# Tokenize the text to get the vocab count \n",
        "from tensorflow.keras.preprocessing.text import Tokenizer \n",
        "from tensorflow.keras.preprocessing.sequence import pad_sequences\n",
        "\n",
        "# Prepare a tokenizer on training data\n",
        "x_tokenizer = Tokenizer() \n",
        "x_tokenizer.fit_on_texts(list(x_train))\n",
        "\n",
        "threshold = 2\n",
        "\n",
        "cnt_infrequent = 0\n",
        "total_cnt = 0\n",
        "\n",
        "for key, value in x_tokenizer.word_counts.items():\n",
        "    total_cnt = total_cnt + 1\n",
        "    if value < threshold:\n",
        "        cnt_infrequent = cnt_infrequent + 1\n",
        "\n",
        "    \n",
        "print(\"% of not frequent words in vocabulary: \", (cnt_infrequent / total_cnt) * 100)"
      ]
    },
    {
      "cell_type": "code",
      "execution_count": 37,
      "id": "edd5d7f3",
      "metadata": {
        "colab": {
          "base_uri": "https://localhost:8080/"
        },
        "id": "edd5d7f3",
        "outputId": "07db7402-affa-47e3-bc32-8830c46ec26d"
      },
      "outputs": [
        {
          "name": "stdout",
          "output_type": "stream",
          "text": [
            "[[126, 382], [76, 76], [216, 286, 13], [7, 6, 54, 75, 75, 11, 32], [600, 132, 601, 602, 463, 603, 31], [25, 715, 297, 78, 376], [3, 139, 3, 267, 26, 420, 128, 41], [6, 54], [163, 31], [157, 4, 2, 1, 11, 4], [21, 4, 649, 18, 5, 143, 116], [6, 43, 493], [3, 171, 267, 26, 51, 193, 31], [226, 22], [97, 119, 717, 135, 26, 1, 173, 173, 279], [3, 3, 34, 22, 49], [4, 90, 224], [133, 33, 17, 33, 183, 17, 33, 337, 46], [785, 338, 46, 84, 46, 84], [467, 52, 157, 62], [24, 4, 4, 2, 1, 24, 4, 9], [11, 77, 1], [485], [16, 29], [25, 141], [108, 250, 4, 37], [363, 2, 1, 197, 4, 9], [17, 244], [17, 383, 226], [67, 67, 2, 1, 37, 38, 39], [228, 240, 597, 240], [3, 40, 294, 124], [14, 14, 11, 201, 104, 23, 44, 12, 129, 44], [176, 100, 318], [61, 40, 2, 40, 1, 4, 117, 19, 41], [195], [30, 2, 1, 156], [6, 43, 16, 72, 87, 39], [2, 1, 4, 67, 2, 1, 37, 38, 4], [13, 59], [256, 298, 206, 256, 62, 89, 457, 256, 96, 256, 35], [7, 4, 90, 292, 185, 491], [181, 47, 5, 15, 64, 30, 20], [3, 24, 140], [8, 71], [21, 235, 5, 15, 16, 9, 751, 229, 8], [87, 206, 256, 89, 457], [24, 50], [3, 47, 41, 210, 31, 79, 193, 31], [6, 43], [17, 33, 20, 17, 33, 356, 312, 33], [11, 452, 26], [9, 128, 32, 65], [291, 29, 107, 27, 2, 27, 1, 20], [19, 733, 2, 1, 44], [363, 5, 15, 462, 8], [4, 541], [17, 109, 7, 56, 84, 56, 84], [237, 80, 275, 172, 285, 358], [80, 123, 378], [499, 199], [2, 1, 37, 65], [45, 70, 78, 78, 636, 4], [45, 69, 14, 45, 326, 49], [21, 5, 30], [3, 159, 22, 193, 31], [8, 25, 306, 219], [19, 67, 2, 1, 37], [108, 179, 63], [126, 104, 167, 44, 174, 72, 269, 10, 12, 23], [308, 101], [157, 4, 20, 2, 1, 627, 4], [64, 107, 20], [21, 74, 106, 31], [216, 286, 13], [351, 350, 86], [30, 59], [11, 452, 35], [396, 114, 61, 155, 93], [9, 32, 140, 32, 140, 65], [28, 24, 108, 277, 2, 1, 37], [28, 447, 195, 2, 1, 249, 319], [30, 136], [17, 414], [38], [3, 141, 51], [17, 109, 81, 283], [110, 57, 89, 204, 450, 103, 514], [35, 4, 47, 5, 15, 8], [3, 205, 78, 78], [241, 443, 242, 88, 154, 443, 385, 69], [2, 42, 1, 4, 18, 65], [27, 2, 27, 1, 9, 27], [4, 64, 4, 34, 64, 15, 177], [387, 387, 85, 99, 201, 99], [149, 27, 2, 27, 1, 18], [94, 50, 61, 274, 464], [28, 87, 55, 2, 1, 4, 18], [55, 493], [785, 33, 254, 79, 99], [7, 8, 40], [27, 2, 27, 1, 619], [263, 214, 264, 40, 144, 65], [614, 47, 15, 23, 38, 38], [751], [192, 54, 89, 204, 457, 212], [242, 88, 32, 20], [163, 36, 373], [4, 2, 1, 36, 21, 36, 4, 4, 5, 15, 379, 379], [13, 68, 175, 184], [16, 21, 5, 15, 8, 106, 31], [28, 447, 2, 1], [733, 2, 1, 4, 733, 181, 44], [151, 2, 151, 1], [24, 28, 4], [34, 140, 2, 1], [363, 11, 4, 5, 15, 462, 11, 201], [186, 52, 63, 127, 95, 205], [3, 24, 20, 24, 265, 30], [6, 43, 399, 399, 399, 399], [6, 54, 12, 12, 12], [21, 154, 4, 5, 15, 30, 20], [3, 34, 22, 209], [55, 107, 16], [13, 68, 53, 140], [702, 47, 5, 46, 201], [3, 495, 22, 155, 98, 250], [163, 390, 79], [720, 246, 157, 720, 676, 11, 32, 248], [108, 250, 37], [769, 60, 178, 39, 2, 60, 1, 52, 92], [16, 177], [3, 58, 398, 27, 411, 23, 29], [28, 24, 2, 1, 37, 9, 1], [216, 286, 23, 319], [17, 340, 226, 349, 204], [4], [30], [126, 104, 23, 44, 12, 129], [3, 58, 85, 346, 15, 8, 258], [19, 36, 181, 36, 35], [21, 4, 37, 38, 5, 15, 16], [21, 4, 120, 515, 5, 15, 203, 203], [7, 20], [1], [97, 11, 4, 4, 37, 11, 4, 11, 4], [32, 59, 32, 38, 32, 38, 32], [165, 692], [17, 109], [342, 94, 50, 61, 671], [185, 80, 278, 123], [205, 17, 33], [28, 2, 1, 36, 74, 74], [6, 43, 399, 399], [62, 20, 59, 268], [16, 25, 108, 179, 219, 59, 79], [7, 149, 1, 2, 1], [3, 34, 22, 85, 69, 19], [3, 139, 3, 267, 26, 128, 40], [28], [3, 58, 25, 306, 38, 3, 98, 51, 141], [3, 25], [21, 74, 5, 15, 8], [80, 275, 737, 81, 63, 519, 643], [33, 17, 33, 356, 46], [186, 52, 56, 84, 127, 297, 297, 205, 48], [176, 5], [101, 2, 1, 111, 20], [2, 42, 1, 4, 18, 65], [16, 287], [262, 86], [6, 113, 479, 16, 479], [9, 11, 77, 1, 282, 65], [216, 557], [3, 34, 22, 49, 193, 31], [367, 113, 52, 46, 147, 70, 46, 147, 367], [29, 2, 1], [16], [514, 40], [208, 330, 34, 344, 507], [35, 131, 15, 21], [21, 5, 15, 8], [375, 47, 5, 15, 24, 6, 43, 24], [30, 703], [16], [169, 169, 59], [14, 207, 333], [27, 2, 27, 1, 9, 1, 27], [308, 59], [3, 40, 3, 40, 24, 57], [8, 83, 255, 51], [6, 43, 167], [25, 61, 16, 51], [28, 10, 12, 8, 170], [110, 50, 118, 93, 85, 517, 734, 85, 88], [29, 3, 131, 15, 29, 445, 41, 51], [357, 48, 23, 652, 48], [133], [3, 49, 3, 500, 293, 49], [7, 128, 272, 50], [67, 30], [35, 77], [3, 58, 5, 98, 137], [28, 6, 20, 16, 72, 72, 117, 32], [8, 2, 1, 37], [34, 2, 1, 4, 181, 2, 1, 748, 2, 1], [11, 396, 114, 453, 281, 725, 303, 48], [5, 2, 5, 40, 1, 4, 11, 19, 18, 9, 34, 40, 559, 74], [3, 136], [16, 214], [3, 139, 3, 58, 119, 672, 29], [314, 577, 314, 314], [342, 318, 353, 165], [29, 29, 2, 1, 599], [17, 362], [24], [795, 212, 162, 796, 199], [49, 247], [181, 47, 5, 15, 30, 2, 1, 20], [6, 43, 13, 16, 39, 10, 39], [28, 55, 42, 2, 42, 1, 18], [64, 30, 20, 76, 2, 1, 178, 20, 87, 39], [52, 92, 205, 39, 28, 13, 13, 8, 2, 1, 158], [17, 383, 226], [7, 291, 200, 2, 13, 88, 13, 26, 200], [149, 261, 797, 4, 2, 797, 1, 111, 4], [107, 2, 1, 20], [163, 208, 208], [48, 162, 137], [8, 2, 1, 4], [], [8, 46, 52, 17, 33, 28, 84], [177, 36], [108, 277, 10], [167, 30, 2, 1, 20], [151], [19, 20, 2, 1, 20], [412, 17, 275, 128, 405, 186, 199], [3, 3, 24, 59, 1, 1], [13, 55, 63, 124], [7, 28, 24, 2, 1], [3, 58, 137, 294, 124], [163], [7, 6, 54, 12, 39, 28, 6, 54, 13, 48], [167], [2, 1, 128, 4, 9, 314, 1], [28, 262, 32], [163, 475, 56], [136], [163, 475, 92, 328], [82, 101], [2, 27, 1, 90, 292, 65], [304], [14, 560], [21, 5, 15, 14, 14, 91, 44], [246, 2, 1, 6], [24, 2, 1], [3, 41, 258], [30, 71, 146], [3, 49, 24, 3, 49, 336, 293, 104, 12, 44], [23, 2, 1, 2, 1, 270], [32, 140, 32, 140], [28, 24, 24, 2, 42, 1, 4, 18], [103], [30, 14, 14, 91, 12, 44, 23, 104, 13], [25, 25, 174, 174, 174, 304, 76], [537, 50, 667, 93, 223, 234, 57, 40], [55], [128, 32], [52, 46, 686, 53], [11, 32, 68, 32, 184], [8, 64, 30, 20], [4, 2, 1, 128, 4, 9, 88, 66, 744], [21, 5, 15, 29, 8, 106, 31], [4, 2, 1, 36, 4, 120, 515], [121, 132, 225, 16], [7, 38, 2, 1, 74, 9, 88, 66, 99], [136], [7, 5, 2, 5, 40, 1, 4, 18, 9, 40], [102], [64, 30, 130, 32, 20], [44, 29, 51, 29, 51], [38, 18], [112, 363, 11, 40, 112, 40, 363, 40], [45, 138, 3, 482, 3], [17, 52, 17, 17, 17], [17, 641], [112, 74, 5, 15, 8, 200], [3, 45, 70, 78, 297, 78, 222, 573, 99], [49], [], [13, 577, 99, 32], [21, 134, 5, 15, 8], [354, 399, 101], [208, 34], [87, 206, 57, 11, 324, 11], [185, 278, 708, 708, 15, 23, 23], [216, 557], [49], [17, 109, 246, 46], [4, 90, 224, 4, 37, 8, 365], [40, 2, 1, 4, 120], [3, 495, 161, 22, 98, 137, 40], [149, 2, 1, 35], [55, 68, 53, 71, 53], [61, 105, 2, 105, 1, 36, 10], [30, 20], [17, 109, 747], [67, 2, 1, 37], [112, 4, 11, 165, 181, 5, 30], [121, 100, 89, 103, 46, 686, 46, 686], [9, 1, 16, 214], [294, 23, 332], [6, 20, 39, 13, 39], [7, 6, 43, 60], [102, 33, 153, 33, 69, 315, 366, 278, 46], [213, 2, 42, 1, 18], [80, 517, 237, 48, 696, 80, 172], [537, 50, 667, 93, 223, 234, 40, 48], [7, 108, 277], [4, 34, 784], [21, 5, 15, 8], [373, 47, 5, 15, 66, 751], [4, 741, 4, 37], [6, 54, 16, 72]]\n",
            "Size of vocabulary in X = 803\n"
          ]
        }
      ],
      "source": [
        "# Prepare a tokenizer, again -- by not considering the rare words\n",
        "x_tokenizer = Tokenizer(num_words = total_cnt - cnt_infrequent) \n",
        "x_tokenizer.fit_on_texts(list(x_train))\n",
        "\n",
        "# Convert text sequences to integer sequences \n",
        "x_train_seqs = x_tokenizer.texts_to_sequences(x_train) \n",
        "x_validation_seqs = x_tokenizer.texts_to_sequences(x_validation)\n",
        "print (x_validation_seqs)\n",
        "# Pad zero upto maximum length\n",
        "x_train = pad_sequences(x_train_seqs,  maxlen=max_code_len, padding='post')\n",
        "x_validation = pad_sequences(x_validation_seqs, maxlen=max_code_len, padding='post')\n",
        "\n",
        "# Size of vocabulary (+1 for padding token)\n",
        "x_voc = x_tokenizer.num_words + 1\n",
        "\n",
        "\n",
        "print(\"Size of vocabulary in X = {}\".format(x_voc))"
      ]
    },
    {
      "cell_type": "code",
      "execution_count": 38,
      "id": "69bd804b",
      "metadata": {
        "colab": {
          "base_uri": "https://localhost:8080/"
        },
        "id": "69bd804b",
        "outputId": "eb14af4f-d6d4-42ee-c5b3-f87d6941ac0e"
      },
      "outputs": [
        {
          "name": "stdout",
          "output_type": "stream",
          "text": [
            "% of rare words in vocabulary: 72.12121212121212\n",
            "Size of vocabulary in Y = 369\n"
          ]
        }
      ],
      "source": [
        "# Prepare a tokenizer on testing data\n",
        "y_tokenizer = Tokenizer()   \n",
        "y_tokenizer.fit_on_texts(list(y_train))\n",
        "\n",
        "threshold = 5\n",
        "\n",
        "cnt_infrequent = 0\n",
        "total_cnt = 0\n",
        "\n",
        "for key, value in y_tokenizer.word_counts.items():\n",
        "    total_cnt = total_cnt + 1\n",
        "    if value < threshold:\n",
        "        cnt_infrequent = cnt_infrequent + 1\n",
        "    \n",
        "print(\"% of rare words in vocabulary:\",(cnt_infrequent / total_cnt) * 100)\n",
        "\n",
        "# Prepare a tokenizer, again -- by not considering the rare words\n",
        "y_tokenizer = Tokenizer(num_words = total_cnt - cnt_infrequent) \n",
        "y_tokenizer.fit_on_texts(list(y_train))\n",
        "\n",
        "# Convert text sequences to integer sequences \n",
        "y_train_seqs = y_tokenizer.texts_to_sequences(y_train) \n",
        "y_validation_seqs = y_tokenizer.texts_to_sequences(y_validation)\n",
        "\n",
        "# Pad zero upto maximum length\n",
        "y_train = pad_sequences(y_train_seqs,  maxlen=max_summary_len, padding='post')\n",
        "y_validation = pad_sequences(y_validation_seqs, maxlen=max_summary_len, padding='post')\n",
        "\n",
        "# Size of vocabulary (+1 for padding token)\n",
        "y_voc = y_tokenizer.num_words + 1\n",
        "\n",
        "print(\"Size of vocabulary in Y = {}\".format(y_voc))"
      ]
    },
    {
      "cell_type": "code",
      "execution_count": 39,
      "id": "ff2112f5",
      "metadata": {
        "id": "ff2112f5"
      },
      "outputs": [],
      "source": [
        "ind = []\n",
        "\n",
        "for i in range(len(y_train)):\n",
        "    cnt = 0\n",
        "    for j in y_train[i]:\n",
        "        if j != 0:\n",
        "            cnt = cnt + 1\n",
        "    if cnt == 2:\n",
        "        ind.append(i)\n",
        "\n",
        "y_train = np.delete(y_train, ind, axis=0)\n",
        "x_train = np.delete(x_train, ind, axis=0)"
      ]
    },
    {
      "cell_type": "code",
      "execution_count": 40,
      "id": "2c9c60e5",
      "metadata": {
        "id": "2c9c60e5"
      },
      "outputs": [],
      "source": [
        "ind = []\n",
        "for i in range(len(y_validation)):\n",
        "    cnt = 0\n",
        "    for j in y_validation[i]:\n",
        "        if j != 0:\n",
        "            cnt = cnt + 1\n",
        "    if cnt == 2:\n",
        "        ind.append(i)\n",
        "\n",
        "y_validation = np.delete(y_validation, ind, axis=0)\n",
        "x_validation = np.delete(x_validation, ind, axis=0)"
      ]
    },
    {
      "cell_type": "code",
      "execution_count": 41,
      "id": "c7d696f3",
      "metadata": {
        "colab": {
          "base_uri": "https://localhost:8080/"
        },
        "id": "c7d696f3",
        "outputId": "e23597c6-fde4-40cc-98d6-275eb0b0555b"
      },
      "outputs": [
        {
          "name": "stdout",
          "output_type": "stream",
          "text": [
            "1833\n",
            "1833\n",
            "325\n",
            "325\n"
          ]
        }
      ],
      "source": [
        "print(len(x_train))\n",
        "print(len(y_train))\n",
        "print(len(x_validation))\n",
        "print(len(y_validation))"
      ]
    },
    {
      "cell_type": "code",
      "execution_count": 42,
      "id": "9d729916",
      "metadata": {
        "colab": {
          "base_uri": "https://localhost:8080/"
        },
        "id": "9d729916",
        "outputId": "7653331d-2a5e-4c26-9ab8-825ef48b388e"
      },
      "outputs": [
        {
          "name": "stdout",
          "output_type": "stream",
          "text": [
            "[36  0  0  0  0  0  0  0  0  0  0  0  0  0  0  0  0  0  0  0  0  0  0  0\n",
            "  0]\n",
            "[  1  42   7   8   7  30  32 205   8   2   0   0   0   0   0   0   0   0\n",
            "   0   0]\n"
          ]
        }
      ],
      "source": [
        "print((x_train[0]))\n",
        "print((y_train[0]))"
      ]
    },
    {
      "cell_type": "code",
      "execution_count": 43,
      "id": "7fddef96",
      "metadata": {
        "id": "7fddef96"
      },
      "outputs": [],
      "source": [
        "from tensorflow.keras.preprocessing.text import Tokenizer\n",
        "from tensorflow.keras.preprocessing.sequence import pad_sequences\n",
        "from tensorflow.keras.layers import Input, LSTM, Embedding, Dense, \\\n",
        "    Concatenate, TimeDistributed\n",
        "from tensorflow.keras.models import Model\n",
        "from tensorflow.keras.callbacks import EarlyStopping"
      ]
    },
    {
      "cell_type": "code",
      "execution_count": 44,
      "id": "a60d9799",
      "metadata": {
        "colab": {
          "base_uri": "https://localhost:8080/"
        },
        "id": "a60d9799",
        "outputId": "6ce60b6a-ef4c-4f65-dadc-50cdbd4df81a"
      },
      "outputs": [
        {
          "name": "stdout",
          "output_type": "stream",
          "text": [
            "Model: \"model\"\n",
            "__________________________________________________________________________________________________\n",
            " Layer (type)                   Output Shape         Param #     Connected to                     \n",
            "==================================================================================================\n",
            " input_1 (InputLayer)           [(None, 25)]         0           []                               \n",
            "                                                                                                  \n",
            " embedding (Embedding)          (None, 25, 200)      160600      ['input_1[0][0]']                \n",
            "                                                                                                  \n",
            " lstm (LSTM)                    [(None, 25, 300),    601200      ['embedding[0][0]']              \n",
            "                                 (None, 300),                                                     \n",
            "                                 (None, 300)]                                                     \n",
            "                                                                                                  \n",
            " input_2 (InputLayer)           [(None, None)]       0           []                               \n",
            "                                                                                                  \n",
            " lstm_1 (LSTM)                  [(None, 25, 300),    721200      ['lstm[0][0]']                   \n",
            "                                 (None, 300),                                                     \n",
            "                                 (None, 300)]                                                     \n",
            "                                                                                                  \n",
            " embedding_1 (Embedding)        (None, None, 200)    73800       ['input_2[0][0]']                \n",
            "                                                                                                  \n",
            " lstm_2 (LSTM)                  [(None, 25, 300),    721200      ['lstm_1[0][0]']                 \n",
            "                                 (None, 300),                                                     \n",
            "                                 (None, 300)]                                                     \n",
            "                                                                                                  \n",
            " lstm_3 (LSTM)                  [(None, None, 300),  601200      ['embedding_1[0][0]',            \n",
            "                                 (None, 300),                     'lstm_2[0][1]',                 \n",
            "                                 (None, 300)]                     'lstm_2[0][2]']                 \n",
            "                                                                                                  \n",
            " time_distributed (TimeDistribu  (None, None, 369)   111069      ['lstm_3[0][0]']                 \n",
            " ted)                                                                                             \n",
            "                                                                                                  \n",
            "==================================================================================================\n",
            "Total params: 2,990,269\n",
            "Trainable params: 2,990,269\n",
            "Non-trainable params: 0\n",
            "__________________________________________________________________________________________________\n"
          ]
        }
      ],
      "source": [
        "latent_dim = 300\n",
        "embedding_dim = 200\n",
        "\n",
        "# Encoder\n",
        "encoder_inputs = Input(shape=(max_code_len, ))\n",
        "\n",
        "# Embedding layer\n",
        "enc_emb = Embedding(x_voc, embedding_dim,\n",
        "                    trainable=True)(encoder_inputs)\n",
        "\n",
        "# Encoder LSTM 1\n",
        "encoder_lstm1 = LSTM(latent_dim, return_sequences=True,\n",
        "                     return_state=True, dropout=0.4,\n",
        "                     recurrent_dropout=0.4)\n",
        "(encoder_output1, state_h1, state_c1) = encoder_lstm1(enc_emb)\n",
        "\n",
        "# Encoder LSTM 2\n",
        "encoder_lstm2 = LSTM(latent_dim, return_sequences=True,\n",
        "                     return_state=True, dropout=0.4,\n",
        "                     recurrent_dropout=0.4)\n",
        "(encoder_output2, state_h2, state_c2) = encoder_lstm2(encoder_output1)\n",
        "\n",
        "# Encoder LSTM 3\n",
        "encoder_lstm3 = LSTM(latent_dim, return_state=True,\n",
        "                     return_sequences=True, dropout=0.4,\n",
        "                     recurrent_dropout=0.4)\n",
        "(encoder_outputs, state_h, state_c) = encoder_lstm3(encoder_output2)\n",
        "\n",
        "# Set up the decoder, using encoder_states as the initial state\n",
        "decoder_inputs = Input(shape=(None, ))\n",
        "\n",
        "# Embedding layer\n",
        "dec_emb_layer = Embedding(y_voc, embedding_dim, trainable=True)\n",
        "dec_emb = dec_emb_layer(decoder_inputs)\n",
        "\n",
        "# Decoder LSTM\n",
        "decoder_lstm = LSTM(latent_dim, return_sequences=True,\n",
        "                    return_state=True, dropout=0.4,\n",
        "                    recurrent_dropout=0.2)\n",
        "(decoder_outputs, decoder_fwd_state, decoder_back_state) = \\\n",
        "    decoder_lstm(dec_emb, initial_state=[state_h, state_c])\n",
        "\n",
        "# Dense layer\n",
        "decoder_dense = TimeDistributed(Dense(y_voc, activation='softmax'))\n",
        "decoder_outputs = decoder_dense(decoder_outputs)\n",
        "\n",
        "# Define the model\n",
        "model = Model([encoder_inputs, decoder_inputs], decoder_outputs)\n",
        "\n",
        "model.summary()"
      ]
    },
    {
      "cell_type": "code",
      "execution_count": 46,
      "id": "a33c6653",
      "metadata": {
        "id": "a33c6653"
      },
      "outputs": [],
      "source": [
        "model.compile(optimizer='rmsprop', loss='sparse_categorical_crossentropy')\n",
        "\n",
        "es = EarlyStopping(monitor='val_loss', mode='min', verbose=1, patience=5)"
      ]
    },
    {
      "cell_type": "code",
      "execution_count": 48,
      "id": "0d424e9f",
      "metadata": {
        "colab": {
          "base_uri": "https://localhost:8080/",
          "height": 380
        },
        "id": "0d424e9f",
        "outputId": "fa64907c-fe1f-4405-ab0d-55f6dac62f00"
      },
      "outputs": [
        {
          "name": "stdout",
          "output_type": "stream",
          "text": [
            "Epoch 1/100\n",
            "15/15 [==============================] - 48s 3s/step - loss: 2.5854 - val_loss: 1.9998\n",
            "Epoch 2/100\n",
            "15/15 [==============================] - 53s 4s/step - loss: 2.0206 - val_loss: 1.8817\n",
            "Epoch 3/100\n",
            "15/15 [==============================] - 57s 4s/step - loss: 1.8911 - val_loss: 1.7708\n",
            "Epoch 4/100\n",
            "15/15 [==============================] - 61s 4s/step - loss: 1.7962 - val_loss: 1.7075\n",
            "Epoch 5/100\n",
            "15/15 [==============================] - 64s 4s/step - loss: 1.7513 - val_loss: 1.6741\n",
            "Epoch 6/100\n",
            "15/15 [==============================] - 69s 5s/step - loss: 1.7052 - val_loss: 1.6138\n",
            "Epoch 7/100\n",
            "15/15 [==============================] - 63s 4s/step - loss: 1.6550 - val_loss: 1.5860\n",
            "Epoch 8/100\n",
            "15/15 [==============================] - 69s 5s/step - loss: 1.6042 - val_loss: 1.5426\n",
            "Epoch 9/100\n",
            "15/15 [==============================] - 70s 5s/step - loss: 1.5511 - val_loss: 1.4908\n",
            "Epoch 10/100\n",
            "15/15 [==============================] - 69s 5s/step - loss: 1.5167 - val_loss: 1.4524\n",
            "Epoch 11/100\n",
            "15/15 [==============================] - 78s 5s/step - loss: 1.4661 - val_loss: 1.4611\n",
            "Epoch 12/100\n",
            "15/15 [==============================] - 75s 5s/step - loss: 1.4267 - val_loss: 1.4191\n",
            "Epoch 13/100\n",
            "15/15 [==============================] - 72s 5s/step - loss: 1.3943 - val_loss: 1.3826\n",
            "Epoch 14/100\n",
            "15/15 [==============================] - 74s 5s/step - loss: 1.3648 - val_loss: 1.3505\n",
            "Epoch 15/100\n",
            "15/15 [==============================] - 73s 5s/step - loss: 1.3350 - val_loss: 1.3488\n",
            "Epoch 16/100\n",
            "15/15 [==============================] - 68s 5s/step - loss: 1.3082 - val_loss: 1.3209\n",
            "Epoch 17/100\n",
            "15/15 [==============================] - 72s 5s/step - loss: 1.2772 - val_loss: 1.2944\n",
            "Epoch 18/100\n",
            "15/15 [==============================] - 74s 5s/step - loss: 1.2550 - val_loss: 1.2941\n",
            "Epoch 19/100\n",
            "15/15 [==============================] - 81s 5s/step - loss: 1.2339 - val_loss: 1.2656\n",
            "Epoch 20/100\n",
            "15/15 [==============================] - 75s 5s/step - loss: 1.2063 - val_loss: 1.2533\n",
            "Epoch 21/100\n",
            "15/15 [==============================] - 70s 5s/step - loss: 1.1863 - val_loss: 1.2443\n",
            "Epoch 22/100\n",
            "15/15 [==============================] - 72s 5s/step - loss: 1.1685 - val_loss: 1.2428\n",
            "Epoch 23/100\n",
            "15/15 [==============================] - 77s 5s/step - loss: 1.1472 - val_loss: 1.2456\n",
            "Epoch 24/100\n",
            "15/15 [==============================] - 72s 5s/step - loss: 1.1271 - val_loss: 1.2156\n",
            "Epoch 25/100\n",
            "15/15 [==============================] - 75s 5s/step - loss: 1.1068 - val_loss: 1.2096\n",
            "Epoch 26/100\n",
            "15/15 [==============================] - 74s 5s/step - loss: 1.0925 - val_loss: 1.1982\n",
            "Epoch 27/100\n",
            "15/15 [==============================] - 71s 5s/step - loss: 1.0712 - val_loss: 1.2040\n",
            "Epoch 28/100\n",
            "15/15 [==============================] - 71s 5s/step - loss: 1.0562 - val_loss: 1.1822\n",
            "Epoch 29/100\n",
            "15/15 [==============================] - 69s 5s/step - loss: 1.0354 - val_loss: 1.1738\n",
            "Epoch 30/100\n",
            "15/15 [==============================] - 69s 5s/step - loss: 1.0219 - val_loss: 1.1643\n",
            "Epoch 31/100\n",
            "15/15 [==============================] - 62s 4s/step - loss: 1.0037 - val_loss: 1.1539\n",
            "Epoch 32/100\n",
            "15/15 [==============================] - 54s 4s/step - loss: 0.9856 - val_loss: 1.1562\n",
            "Epoch 33/100\n",
            "15/15 [==============================] - 54s 4s/step - loss: 0.9667 - val_loss: 1.1463\n",
            "Epoch 34/100\n",
            "15/15 [==============================] - 54s 4s/step - loss: 0.9516 - val_loss: 1.1472\n",
            "Epoch 35/100\n",
            "15/15 [==============================] - 55s 4s/step - loss: 0.9362 - val_loss: 1.1429\n",
            "Epoch 36/100\n",
            "15/15 [==============================] - 54s 4s/step - loss: 0.9223 - val_loss: 1.1339\n",
            "Epoch 37/100\n",
            "15/15 [==============================] - 53s 4s/step - loss: 0.9075 - val_loss: 1.1368\n",
            "Epoch 38/100\n",
            "15/15 [==============================] - 54s 4s/step - loss: 0.8938 - val_loss: 1.1378\n",
            "Epoch 00038: early stopping\n"
          ]
        }
      ],
      "source": [
        "history = model.fit(\n",
        "    [x_train, y_train[:, :-1]],\n",
        "    y_train.reshape(y_train.shape[0], y_train.shape[1], 1)[:, 1:],\n",
        "    epochs=100,\n",
        "    callbacks=[es],\n",
        "    batch_size=128,\n",
        "    validation_data=([x_validation, y_validation[:, :-1]],\n",
        "                     y_validation.reshape(y_validation.shape[0], y_validation.shape[1], 1)[:\n",
        "                     , 1:]),\n",
        "    )"
      ]
    },
    {
      "cell_type": "code",
      "execution_count": 49,
      "id": "6e847593",
      "metadata": {
        "colab": {
          "base_uri": "https://localhost:8080/",
          "height": 235
        },
        "id": "6e847593",
        "outputId": "496b57b3-7f34-4a19-bb9c-bf1f948eba4f"
      },
      "outputs": [
        {
          "data": {
            "image/png": "[encoded data removed]",
            "text/plain": [
              "<Figure size 432x288 with 1 Axes>"
            ]
          },
          "metadata": {
            "needs_background": "light"
          },
          "output_type": "display_data"
        }
      ],
      "source": [
        "from matplotlib import pyplot\n",
        "\n",
        "pyplot.plot(history.history['loss'], label='train')\n",
        "pyplot.plot(history.history['val_loss'], label='test')\n",
        "pyplot.legend()\n",
        "pyplot.show()"
      ]
    },
    {
      "cell_type": "code",
      "execution_count": 50,
      "id": "c70a0ceb",
      "metadata": {
        "id": "c70a0ceb"
      },
      "outputs": [],
      "source": [
        "reverse_target_word_index = y_tokenizer.index_word\n",
        "reverse_source_word_index = x_tokenizer.index_word\n",
        "target_word_index = y_tokenizer.word_index"
      ]
    },
    {
      "cell_type": "code",
      "execution_count": 51,
      "id": "c63c15dc",
      "metadata": {
        "id": "c63c15dc"
      },
      "outputs": [],
      "source": [
        "encoder_model = Model(inputs=encoder_inputs, outputs=[encoder_outputs,\n",
        "                      state_h, state_c])\n",
        "\n",
        "# Decoder setup\n",
        "\n",
        "# Below tensors will hold the states of the previous time step\n",
        "decoder_state_input_h = Input(shape=(latent_dim, ))\n",
        "decoder_state_input_c = Input(shape=(latent_dim, ))\n",
        "decoder_hidden_state_input = Input(shape=(max_code_len, latent_dim))\n",
        "\n",
        "# Get the embeddings of the decoder sequence\n",
        "dec_emb2 = dec_emb_layer(decoder_inputs)\n",
        "\n",
        "# To predict the next word in the sequence, set the initial states to the states from the previous time step\n",
        "(decoder_outputs2, state_h2, state_c2) = decoder_lstm(dec_emb2,\n",
        "        initial_state=[decoder_state_input_h, decoder_state_input_c])\n",
        "\n",
        "# A dense softmax layer to generate prob dist. over the target vocabulary\n",
        "decoder_outputs2 = decoder_dense(decoder_outputs2)\n",
        "\n",
        "# Final decoder model\n",
        "decoder_model = Model([decoder_inputs] + [decoder_hidden_state_input,\n",
        "                      decoder_state_input_h, decoder_state_input_c],\n",
        "                      [decoder_outputs2] + [state_h2, state_c2])"
      ]
    },
    {
      "cell_type": "code",
      "execution_count": 52,
      "id": "67f98b91",
      "metadata": {
        "id": "67f98b91"
      },
      "outputs": [],
      "source": [
        "def decode_sequence(input_seq):\n",
        "\n",
        "    # Encode the input as state vectors.\n",
        "    (e_out, e_h, e_c) = encoder_model.predict(input_seq)\n",
        "\n",
        "    # Generate empty target sequence of length 1\n",
        "    target_seq = np.zeros((1, 1))\n",
        "\n",
        "    # Populate the first word of target sequence with the start word.\n",
        "    target_seq[0, 0] = target_word_index['sostok']\n",
        "\n",
        "    stop_condition = False\n",
        "    decoded_sentence = ''\n",
        "\n",
        "    while not stop_condition:\n",
        "        (output_tokens, h, c) = decoder_model.predict([target_seq]\n",
        "                + [e_out, e_h, e_c])\n",
        "\n",
        "        # Sample a token\n",
        "        sampled_token_index = np.argmax(output_tokens[0, -1, :])\n",
        "        sampled_token = reverse_target_word_index[sampled_token_index]\n",
        "\n",
        "        if sampled_token != 'eostok':\n",
        "            decoded_sentence += ' ' + sampled_token\n",
        "\n",
        "        # Exit condition: either hit max length or find the stop word.\n",
        "        if sampled_token == 'eostok' or len(decoded_sentence.split()) \\\n",
        "            >= max_summary_len - 1:\n",
        "            stop_condition = True\n",
        "\n",
        "        # Update the target sequence (of length 1)\n",
        "        target_seq = np.zeros((1, 1))\n",
        "        target_seq[0, 0] = sampled_token_index\n",
        "\n",
        "        # Update internal states\n",
        "        (e_h, e_c) = (h, c)\n",
        "\n",
        "    return decoded_sentence"
      ]
    },
    {
      "cell_type": "code",
      "execution_count": 53,
      "id": "94d54012",
      "metadata": {
        "id": "94d54012"
      },
      "outputs": [],
      "source": [
        "def seq2summary(input_seq):\n",
        "    newString = ''\n",
        "    for i in input_seq:\n",
        "        if i != 0 and i != target_word_index['sostok'] and i \\\n",
        "            != target_word_index['eostok']:\n",
        "            newString = newString + reverse_target_word_index[i] + ' '\n",
        "\n",
        "    return newString\n",
        "\n",
        "\n",
        "# To convert sequence to text\n",
        "def seq2text(input_seq):\n",
        "    newString = ''\n",
        "    for i in input_seq:\n",
        "        if i != 0:\n",
        "            newString = newString + reverse_source_word_index[i] + ' '\n",
        "\n",
        "    return newString"
      ]
    },
    {
      "cell_type": "code",
      "execution_count": 54,
      "id": "6280097b",
      "metadata": {
        "colab": {
          "base_uri": "https://localhost:8080/"
        },
        "id": "6280097b",
        "outputId": "8d224838-95b0-4e8d-da70-7aea23589f5d"
      },
      "outputs": [
        {
          "name": "stdout",
          "output_type": "stream",
          "text": [
            "Code: zip \n",
            "Original summary: elements of list of lists and return list \n",
            "Predicted summary:  how to get the values of list of list\n",
            "\n",
            "\n",
            "Code: sys path append path to test \n",
            "Original summary: python find module in the same folder \n",
            "Predicted summary:  python regular expression match of\n",
            "\n",
            "\n",
            "Code: dir \n",
            "Original summary: get all object attributes \n",
            "Predicted summary:  how to get the first name of string\n",
            "\n",
            "\n",
            "Code: time mktime datetime datetime strptime d m y timetuple \n",
            "Original summary: convert string date to in python \n",
            "Predicted summary:  how to get the of in python\n",
            "\n",
            "\n",
            "Code: result sys stdin read \n",
            "Original summary: read file from with python \n",
            "Predicted summary:  python regex for matching\n",
            "\n",
            "\n",
            "Code: \n",
            "Original summary: python my sql update working but not \n",
            "Predicted summary:  how to get the first name of string\n",
            "\n",
            "\n",
            "Code: t sorted list items key lambda x \n",
            "Original summary: create from dictionary of lists \n",
            "Predicted summary:  how to sort list of strings in python\n",
            "\n",
            "\n",
            "Code: split for in list \n",
            "Original summary: remove string from list if from substring list \n",
            "Predicted summary:  how to get the first elements of list\n",
            "\n",
            "\n",
            "Code: sum x x for in range len \n",
            "Original summary: find the sum of of list in python \n",
            "Predicted summary:  how to get the first elements of list\n",
            "\n",
            "\n",
            "Code: winsound sound sound winsound filename \n",
            "Original summary: with python \n",
            "Predicted summary:  python regex for matching\n",
            "\n",
            "\n",
            "Code: browser find element by class name select all click \n",
            "Original summary: how to on the text button using selenium python \n",
            "Predicted summary:  python regular expression matching of\n",
            "\n",
            "\n",
            "Code: join random choice string lowercase for in range \n",
            "Original summary: how do generate random string of length only in python \n",
            "Predicted summary:  how to get the first element of list\n",
            "\n",
            "\n",
            "Code: print url replace com \n",
            "Original summary: remove substring from the end of string \n",
            "Predicted summary:  python split string\n",
            "\n",
            "\n",
            "Code: df df isin \n",
            "Original summary: use list of values to select rows from pandas dataframe \n",
            "Predicted summary:  pandas data frame to list of columns\n",
            "\n",
            "\n",
            "Code: re sub as \n",
            "Original summary: removing all non characters from string in python \n",
            "Predicted summary:  python regex for matching\n",
            "\n",
            "\n",
            "Code: sorted sorted key str upper \n",
            "Original summary: sort string in order python \n",
            "Predicted summary:  how to sort list of strings by the first value\n",
            "\n",
            "\n",
            "Code: for in if not in \n",
            "Original summary: remove all values within one list from another list in python \n",
            "Predicted summary:  how to get the first elements of list\n",
            "\n",
            "\n",
            "Code: soup find all div class re compile comment \n",
            "Original summary: python regular expression for beautiful soup \n",
            "Predicted summary:  python regex for matching\n",
            "\n",
            "\n",
            "Code: join for in strs if isdigit \n",
            "Original summary: removing letters from list of numbers and letters \n",
            "Predicted summary:  how to get the first element of list\n",
            "\n",
            "\n"
          ]
        }
      ],
      "source": [
        "for i in range(0, 19):\n",
        "    print ('Code:', seq2text(x_train[i]))\n",
        "    print ('Original summary:', seq2summary(y_train[i]))\n",
        "    print ('Predicted summary:', decode_sequence(x_train[i].reshape(1,\n",
        "           max_code_len)))\n",
        "    print ('\\n')\n"
      ]
    },
    {
      "cell_type": "code",
      "execution_count": 55,
      "id": "c6UKL99iC8Vi",
      "metadata": {
        "colab": {
          "base_uri": "https://localhost:8080/"
        },
        "id": "c6UKL99iC8Vi",
        "outputId": "772d5489-152f-4e42-bd70-142ef09ca327"
      },
      "outputs": [
        {
          "name": "stdout",
          "output_type": "stream",
          "text": [
            "Code: time sleep \n",
            "Original summary: make time \n",
            "Predicted summary:  how to get the of in python\n",
            "\n",
            "\n",
            "Code: t t \n",
            "Original summary: numpy matrix \n",
            "Predicted summary:  how to get the first element of an array\n",
            "\n",
            "\n",
            "Code: struct unpack s \n",
            "Original summary: how do convert string of values to list of integers \n",
            "Predicted summary:  convert hex string to int\n",
            "\n",
            "\n",
            "Code: print re findall u u my string \n",
            "Original summary: how to only from string using regular expression \n",
            "Predicted summary:  python regular expression matching of\n",
            "\n",
            "\n",
            "Code: dparser parse monkey love banana fuzzy true \n",
            "Original summary: extracting date from string in python \n",
            "Predicted summary:  how to get the of in python\n",
            "\n",
            "\n",
            "Code: np genfromtxt myfile csv delimiter \n",
            "Original summary: read csv into array in numpy \n",
            "Predicted summary:  python how to get the of plot\n",
            "\n",
            "\n",
            "Code: df loc df column name isin some values \n",
            "Original summary: select rows from data frame based on values in column in pandas \n",
            "Predicted summary:  pandas data frame to list of columns\n",
            "\n",
            "\n",
            "Code: re findall \n",
            "Original summary: python regular expression with \n",
            "Predicted summary:  python regex\n",
            "\n",
            "\n",
            "Code: plt true \n",
            "Original summary: how do plot in python \n",
            "Predicted summary:  how to get the of in python\n",
            "\n",
            "\n",
            "Code: new list for in my list \n",
            "Original summary: how to add an integer to each element in list \n",
            "Predicted summary:  how to get the first elements of list\n",
            "\n",
            "\n",
            "Code: sorted list dictionary items key operator itemgetter \n",
            "Original summary: how do iterate over python dictionary ordered by values \n",
            "Predicted summary:  how to sort list of strings by the first value\n",
            "\n",
            "\n",
            "Code: re sub mystring \n",
            "Original summary: how to remove from string in python using regular not in html \n",
            "Predicted summary:  python regex for matching\n",
            "\n",
            "\n",
            "Code: df drop column name axis inplace true \n",
            "Original summary: delete column from pandas data frame \n",
            "Predicted summary:  pandas data frame to list of columns\n",
            "\n",
            "\n",
            "Code: home index \n",
            "Original summary: django to from \n",
            "Predicted summary:  how to get the first element of string\n",
            "\n",
            "\n",
            "Code: return user groups filter name in group group exists \n",
            "Original summary: in django how do check if user is in certain group \n",
            "Predicted summary:  how to get the first element of list\n",
            "\n",
            "\n",
            "Code: df df set index date \n",
            "Original summary: how to dataframe date field as index \n",
            "Predicted summary:  pandas data frame to list of columns\n",
            "\n",
            "\n",
            "Code: list itertools product \n",
            "Original summary: how to apply product to elements of list of lists \n",
            "Predicted summary:  how to get the first elements of list\n",
            "\n",
            "\n",
            "Code: dir path os path dirname os path realpath file \n",
            "Original summary: find current directory \n",
            "Predicted summary:  how to get the of in python\n",
            "\n",
            "\n",
            "Code: shutil copy file txt file txt \n",
            "Original summary: one file contents to another in python \n",
            "Predicted summary:  python json file with utf\n",
            "\n",
            "\n"
          ]
        }
      ],
      "source": [
        "for i in range(0, 19):\n",
        "    print ('Code:', seq2text(x_validation[i]))\n",
        "    print ('Original summary:', seq2summary(y_validation[i]))\n",
        "    print ('Predicted summary:', decode_sequence(x_validation[i].reshape(1,\n",
        "           max_code_len)))\n",
        "    print ('\\n')\n"
      ]
    },
    {
      "cell_type": "code",
      "execution_count": null,
      "id": "Hn7bxzgpKwQj",
      "metadata": {
        "id": "Hn7bxzgpKwQj"
      },
      "outputs": [],
      "source": []
    }
  ],
  "metadata": {
    "colab": {
      "name": "Seq2Seq.ipynb",
      "provenance": []
    },
    "kernelspec": {
      "display_name": "Python 3.9.6 64-bit",
      "language": "python",
      "name": "python3"
    },
    "language_info": {
      "codemirror_mode": {
        "name": "ipython",
        "version": 3
      },
      "file_extension": ".py",
      "mimetype": "text/x-python",
      "name": "python",
      "nbconvert_exporter": "python",
      "pygments_lexer": "ipython3",
      "version": "3.9.6"
    },
    "vscode": {
      "interpreter": {
        "hash": "1a29cbfa8f5f7cca30f5d5f8e04466fcb06388dbcd55a5ee109ea0b0409b4204"
      }
    }
  },
  "nbformat": 4,
  "nbformat_minor": 5
}
